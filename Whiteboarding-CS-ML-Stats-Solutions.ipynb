{
 "cells": [
  {
   "cell_type": "markdown",
   "metadata": {},
   "source": [
    "A notebook containing the solutions to most the CS whiteboarding questions asked during Insight Toronto Session 19C, as well as, some other miscellaneous questions from Stats and Machine Learning done during whiteboarding. If imports are required, they are included  above each question (instead of in the imports section) to enable  each section to be run on their own."
   ]
  },
  {
   "cell_type": "markdown",
   "metadata": {},
   "source": [
    "## Imports"
   ]
  },
  {
   "cell_type": "markdown",
   "metadata": {},
   "source": [
    "Not necessary to run this, but I put these in almost every notebook."
   ]
  },
  {
   "cell_type": "code",
   "execution_count": null,
   "metadata": {},
   "outputs": [],
   "source": [
    "%reload_ext autoreload\n",
    "%autoreload 2\n",
    "%matplotlib inline"
   ]
  },
  {
   "cell_type": "code",
   "execution_count": null,
   "metadata": {},
   "outputs": [],
   "source": [
    "# If input or output variables using extraneous memory run below specify (in or out)\n",
    "# %reset -f out\n",
    "# %reset -f in\n",
    "\n",
    "def sizeof_fmt(num, suffix='B'):\n",
    "    ''' by Fred Cirera,  https://stackoverflow.com/a/1094933/1870254, modified'''\n",
    "    for unit in ['','Ki','Mi','Gi','Ti','Pi','Ei','Zi']:\n",
    "        if abs(num) < 1024.0:\n",
    "            return \"%3.1f %s%s\" % (num, unit, suffix)\n",
    "        num /= 1024.0\n",
    "    return \"%.1f %s%s\" % (num, 'Yi', suffix)\n",
    "\n",
    "def get_var_sizes(local_vars = locals().items(), max_num=12):\n",
    "    # if sys not imported then import it\n",
    "    # after sys imported use 'copy' in sys.modules\n",
    "    if \"sys\" not in dir():\n",
    "        import sys\n",
    "        \n",
    "    for name, size in sorted(((name, sys.getsizeof(value)) for name, value in local_vars),\n",
    "                             key= lambda x: -x[1])[:max_num]:\n",
    "        print(\"{:>30}: {:>8}\".format(name, sizeof_fmt(size)))\n",
    "get_var_sizes()"
   ]
  },
  {
   "cell_type": "markdown",
   "metadata": {},
   "source": [
    "## CS: Whiteboarding (Leetcode type)"
   ]
  },
  {
   "cell_type": "markdown",
   "metadata": {},
   "source": [
    "Categories describing the difficulty are just my guess to what they would be on Leetcode or elsewhere. "
   ]
  },
  {
   "cell_type": "markdown",
   "metadata": {},
   "source": [
    "### Hard"
   ]
  },
  {
   "cell_type": "markdown",
   "metadata": {},
   "source": [
    "#### Return a Deep Copy of a List"
   ]
  },
  {
   "cell_type": "markdown",
   "metadata": {},
   "source": [
    "A linked list is given such that each node contains an additional random pointer which could point to any node in the list or null.\n",
    "\n",
    "Return a deep copy of the list."
   ]
  },
  {
   "cell_type": "code",
   "execution_count": null,
   "metadata": {},
   "outputs": [],
   "source": [
    "class Node:\n",
    "    def __init__(self, val, next, random):\n",
    "        self.val = val\n",
    "        self.next = next\n",
    "        self.random = random"
   ]
  },
  {
   "cell_type": "code",
   "execution_count": null,
   "metadata": {},
   "outputs": [],
   "source": [
    "def copyRandomList(head: 'Node') -> 'Node':\n",
    "    if head == None:\n",
    "        return None\n",
    "    copy_head = Node(head.val, None, None)\n",
    "    head_cur = head\n",
    "    copy_cur = copy_head\n",
    "    # Need None: None in case the random pointer is equal to None\n",
    "    map_old_to_new = {None: None}\n",
    "    i = 1\n",
    "    # creates the initial list and maps original list references to new list references\n",
    "    # this can be used to set the random nodes in the second loop\n",
    "    while head_cur!= None:\n",
    "        map_old_to_new[head_cur] = copy_cur\n",
    "        head_cur = head_cur.next\n",
    "        if head_cur == None:\n",
    "            copy_cur.next = None\n",
    "        else:\n",
    "            copy_cur.next = Node(head_cur.val, None, None)\n",
    "        copy_cur = copy_cur.next\n",
    "        i+=1\n",
    "\n",
    "    # Rerun through the lists setting the random pointers \n",
    "    # Passes the reference of the old list into the dictionary which is a mapping to the \n",
    "    # same nodes in the new list so used to set the random pointers in the new list\n",
    "    head_cur = head\n",
    "    copy_cur = copy_head\n",
    "    while head_cur!= None:\n",
    "        copy_cur.random = map_old_to_new[head_cur.random]\n",
    "        head_cur = head_cur.next\n",
    "        copy_cur = copy_cur.next\n",
    "\n",
    "    return copy_head\n"
   ]
  },
  {
   "cell_type": "code",
   "execution_count": null,
   "metadata": {},
   "outputs": [],
   "source": [
    "# Make the graph\n",
    "node1 = Node(1, None, None)\n",
    "node2 = Node(2, None, None)\n",
    "node1.next = node2\n",
    "node1.random = node2\n",
    "node2.random = node2\n",
    "\n",
    "graph = copyRandomList(node1)\n",
    "\n",
    "# Checks to make sure the graph was created correctly\n",
    "assert graph.val == 1\n",
    "assert graph != node1\n",
    "assert graph.next.val == node2.val\n",
    "assert graph.random != node2\n",
    "assert graph.random == graph.next\n",
    "assert graph.random.val == 2\n",
    "assert graph.next.random == graph.next\n",
    "assert graph.next.random.val == 2"
   ]
  },
  {
   "cell_type": "markdown",
   "metadata": {},
   "source": [
    "#### Egg dropping problem (n eggs, k floors)"
   ]
  },
  {
   "cell_type": "markdown",
   "metadata": {},
   "source": [
    "Functions to get minimum number of trials  needed in worst case with n eggs and k floors.\n"
   ]
  },
  {
   "cell_type": "code",
   "execution_count": null,
   "metadata": {},
   "outputs": [],
   "source": [
    "INT_MAX = 32767\n",
    "def eggDrop_recur(n, k): \n",
    "    # If there are no floors, then no trials \n",
    "    # needed. OR if there is one floor, one \n",
    "    # trial needed. \n",
    "    if (k == 1 or k == 0): \n",
    "        return k \n",
    "  \n",
    "    # We need k trials for one egg  \n",
    "    # and k floors \n",
    "    if (n == 1): \n",
    "        return k \n",
    "  \n",
    "    min = INT_MAX\n",
    "  \n",
    "    # Consider all droppings from 1st  \n",
    "    # floor to kth floor and return  \n",
    "    # the minimum of these values plus 1. \n",
    "    for x in range(1, k + 1): \n",
    "  \n",
    "        res = max(eggDrop_recur(n - 1, x - 1),  \n",
    "                  eggDrop_recur(n, k - x)) \n",
    "        if (res < min): \n",
    "            min = res \n",
    "  \n",
    "    return min + 1\n",
    "  \n",
    "assert eggDrop_recur(2, 10) == 4"
   ]
  },
  {
   "cell_type": "code",
   "execution_count": null,
   "metadata": {},
   "outputs": [],
   "source": [
    "INT_MAX = 32767\n",
    "def eggDrop_dynamicp(n, k): \n",
    "    # A 2D table where entry eggFloor[i][j] will represent minimum \n",
    "    # number of trials needed for i eggs and j floors. \n",
    "    eggFloor = [[0 for x in range(k+1)] for x in range(n+1)] \n",
    "  \n",
    "    # We need one trial for one floor and 0 trials for 0 floors \n",
    "    for i in range(1, n+1): \n",
    "        eggFloor[i][1] = 1\n",
    "        eggFloor[i][0] = 0\n",
    "  \n",
    "    # We always need j trials for one egg and j floors. \n",
    "    for j in range(1, k+1): \n",
    "        eggFloor[1][j] = j \n",
    "  \n",
    "    # Fill rest of the entries in table using optimal substructure \n",
    "    # property \n",
    "    for i in range(2, n+1): \n",
    "        for j in range(2, k+1): \n",
    "            eggFloor[i][j] = INT_MAX \n",
    "            for x in range(1, j+1): \n",
    "                res = 1 + max(eggFloor[i-1][x-1], eggFloor[i][j-x]) \n",
    "                if res < eggFloor[i][j]: \n",
    "                    eggFloor[i][j] = res \n",
    "  \n",
    "    # eggFloor[n][k] holds the result \n",
    "    return eggFloor[n][k]\n",
    "\n",
    "assert eggDrop_dynamicp(2, 10) == 4\n",
    "assert eggDrop_dynamicp(2, 100) == 14"
   ]
  },
  {
   "cell_type": "markdown",
   "metadata": {},
   "source": [
    "#### Coin Change"
   ]
  },
  {
   "cell_type": "markdown",
   "metadata": {},
   "source": [
    "Given a value N, if we want to make change for N cents, and we have infinite supply of each of `S = { S1, S2, .. , Sm}` valued coins, how many ways can we make the change? The order of coins doesn’t matter.\n",
    "\n",
    "For example, for N = 4 and S = {1,2,3}, there are four solutions: {1,1,1,1},{1,1,2},{2,2},{1,3}. So output should be 4. For N = 10 and S = {2, 5, 3, 6}, there are five solutions: {2,2,2,2,2}, {2,2,3,3}, {2,2,6}, {2,3,5} and {5,5}. So the output should be 5.\n",
    "\n",
    "[Dynamic Programming solution here](https://www.geeksforgeeks.org/coin-change-dp-7/)"
   ]
  },
  {
   "cell_type": "code",
   "execution_count": null,
   "metadata": {},
   "outputs": [],
   "source": [
    "def count_coins(S: str, n: int) -> int:\n",
    "    \"\"\"Count the ways we can sum the coins in S to get sum n.\"\"\"\n",
    "    if (n == 0):\n",
    "        return 1  # 1 solution\n",
    "    if (n < 0):\n",
    "        return 0  # no solution\n",
    "    # no coins and n not 0 so no solution\n",
    "    if (not S and n >= 1):\n",
    "        return 0\n",
    "\n",
    "    # count is sum of solutions\n",
    "    #  (i) including S[m-1] (ii) excluding S[m-1]\n",
    "    return count_coins(S[:len(S)-1], n) + count(S, n-S[-1])"
   ]
  },
  {
   "cell_type": "code",
   "execution_count": null,
   "metadata": {},
   "outputs": [],
   "source": [
    "assert count_coins([1,2,3], 4) == 4\n",
    "assert count_coins([2, 5, 3, 6], 10) == 5"
   ]
  },
  {
   "cell_type": "markdown",
   "metadata": {},
   "source": [
    "### Medium"
   ]
  },
  {
   "cell_type": "markdown",
   "metadata": {},
   "source": [
    "#### Array of squares (non-decreasing order)"
   ]
  },
  {
   "cell_type": "markdown",
   "metadata": {},
   "source": [
    "Given an array of integers A sorted in non-decreasing order, return an array of the squares of\n",
    "each number, also in sorted non-decreasing order."
   ]
  },
  {
   "cell_type": "code",
   "execution_count": null,
   "metadata": {},
   "outputs": [],
   "source": [
    "def array_of_squares(A):\n",
    "    # store temp answer\n",
    "    answer = []\n",
    "    l, r = 0, len(A) - 1\n",
    "    # go from left and right index simultaneously \n",
    "    # appending the bigger value to the list\n",
    "    while l <= r:\n",
    "        left, right = abs(A[l]), abs(A[r])\n",
    "        if left > right:\n",
    "            # much more time efficient to do left*left instead of left**2\n",
    "            # also more efficient to append then do answer += [left*left]\n",
    "            answer.append(left*left)\n",
    "            l += 1\n",
    "        else:\n",
    "            answer.append(right*right)\n",
    "            r -= 1\n",
    "    # returns the list in reverse order because sorted in decreasing order\n",
    "    # not non-decreasing order\n",
    "    return answer[::-1]"
   ]
  },
  {
   "cell_type": "code",
   "execution_count": null,
   "metadata": {},
   "outputs": [],
   "source": [
    "def array_of_squares_nonegs(A):\n",
    "    # store temp answer\n",
    "    answer = []\n",
    "    l, r = 0, len(A) - 1\n",
    "    # go from left and right index simultaneously \n",
    "    # appending the bigger value to the list\n",
    "    while l <= r:\n",
    "        left, right = abs(A[l]), abs(A[r])\n",
    "        if left > right:\n",
    "            # much more time efficient to do left*left instead of left**2\n",
    "            # also more efficient to append then do answer += [left*left]\n",
    "            answer.append(left*left)\n",
    "            l += 1\n",
    "        # if rarely have negative numbers this will be faster\n",
    "        elif A[l] > -1:\n",
    "            return answer[::-1].extend([x*x for x in A[l:r+1]][::-1])\n",
    "        else:\n",
    "            answer.append(right*right)\n",
    "            r -= 1\n",
    "    # returns the list in reverse order because sorted in decreasing order\n",
    "    # not non-decreasing order\n",
    "    return answer[::-1]"
   ]
  },
  {
   "cell_type": "code",
   "execution_count": null,
   "metadata": {},
   "outputs": [],
   "source": [
    "import collections\n",
    "def array_of_squares_deque(A):\n",
    "    # The above implementation is using a list as a queue. Directly\n",
    "    # using a queue in collection might be faster/more efficient.\n",
    "    answer = collections.deque()\n",
    "    l, r = 0, len(A) - 1\n",
    "    while l <= r:\n",
    "        left, right = abs(A[l]), abs(A[r])\n",
    "        if left > right:\n",
    "            answer.appendleft(left*left)\n",
    "            l += 1\n",
    "        else:\n",
    "            answer.appendleft(right*right)\n",
    "            r -= 1\n",
    "    return list(answer)"
   ]
  },
  {
   "cell_type": "code",
   "execution_count": null,
   "metadata": {},
   "outputs": [],
   "source": [
    "start=-1000\n",
    "end=100000\n",
    "skip=3\n",
    "%timeit array_of_squares(range(start,end,skip))\n",
    "%timeit array_of_squares_nonegs(range(start,end,skip))\n",
    "%timeit array_of_squares_deque(range(start,end,skip))"
   ]
  },
  {
   "cell_type": "code",
   "execution_count": null,
   "metadata": {},
   "outputs": [],
   "source": [
    "assert array_of_squares([-10,-2,0,1,2,3]) == [0, 1, 4, 4, 9, 100]\n",
    "assert array_of_squares_deque([-10,-2,0,1,2,3]) == [0, 1, 4, 4, 9, 100]\n",
    "assert array_of_squares([-1,1,2,3]) == [1,1, 4, 9]\n",
    "assert array_of_squares_deque([-1,1,2,3]) == [1,1, 4, 9]"
   ]
  },
  {
   "cell_type": "markdown",
   "metadata": {},
   "source": [
    "#### All permutations of a given string using recursion"
   ]
  },
  {
   "cell_type": "markdown",
   "metadata": {},
   "source": [
    "Write a program to print all permutations of a given string using recursion.  \n",
    "A permutation, also called an “arrangement number” or “order,” is a rearrangement of the elements of an\n",
    "ordered list `S` into a one‐to‐one correspondence with `S` itself. A string of length `n` has `n!` permutation.  \n",
    "Below are the permutations of string `ABC`.\n",
    "`[ABC ACB BAC BCA CBA CAB]`"
   ]
  },
  {
   "cell_type": "code",
   "execution_count": null,
   "metadata": {},
   "outputs": [],
   "source": [
    "def all_permutations(s, depth=0, perms=None):\n",
    "    if perms == None: perms = []\n",
    "    if depth == len(s)-1:\n",
    "        perms.append(s)\n",
    "    else:\n",
    "        for ind in range(depth, len(s)):\n",
    "            perm_s = list(s)\n",
    "            perm_s[ind] = s[depth]\n",
    "            perm_s[depth] = s[ind]\n",
    "            all_permutations(''.join(perm_s), depth+1, perms)\n",
    "    return perms"
   ]
  },
  {
   "cell_type": "code",
   "execution_count": null,
   "metadata": {},
   "outputs": [],
   "source": [
    "# Much more efficient using lists and backtrack than strings\n",
    "def all_permutations_backtrack(a, l=0, r=len(a)-1, perms=None):\n",
    "    if perms == None: perms = []\n",
    "    if l==r:\n",
    "        perms.append(''.join(a))\n",
    "    else:\n",
    "        for i in range(l,r+1):\n",
    "            a[l], a[i] = a[i], a[l]\n",
    "            all_permutations_backtrack(a, l+1, r, perms)\n",
    "            a[l], a[i] = a[i], a[l] # backtrack\n",
    "    return perms"
   ]
  },
  {
   "cell_type": "code",
   "execution_count": null,
   "metadata": {},
   "outputs": [],
   "source": [
    "%timeit all_permutations(\"abcdefg\")\n",
    "%timeit all_permutations_backtrack(list(\"abcdefg\"))"
   ]
  },
  {
   "cell_type": "code",
   "execution_count": null,
   "metadata": {},
   "outputs": [],
   "source": [
    "assert all_permutations(\"abc\") == ['abc', 'acb', 'bac', 'bca', 'cba', 'cab']\n",
    "assert all_permutations_backtrack(list(\"abc\")) == ['abc', 'acb', 'bac', 'bca', 'cba', 'cab']"
   ]
  },
  {
   "cell_type": "markdown",
   "metadata": {},
   "source": [
    "#### Fibonacci Numbers"
   ]
  },
  {
   "cell_type": "markdown",
   "metadata": {},
   "source": [
    "Memory saving way (non-recursive so doesn't have a bunch of calls on the stack):"
   ]
  },
  {
   "cell_type": "code",
   "execution_count": null,
   "metadata": {},
   "outputs": [],
   "source": [
    "def fibonacci(n): \n",
    "    a = 0\n",
    "    b = 1\n",
    "    if n < 0: \n",
    "        print(\"Incorrect input\") \n",
    "    elif n == 0: \n",
    "        return a \n",
    "    elif n == 1: \n",
    "        return b \n",
    "    else: \n",
    "        for i in range(2,n): \n",
    "            c = a + b \n",
    "            a = b \n",
    "            b = c \n",
    "        return b "
   ]
  },
  {
   "cell_type": "markdown",
   "metadata": {},
   "source": [
    "Dynamic programming approach so the sub-array sums are saved and used if already calculated when the recursion reaches that point."
   ]
  },
  {
   "cell_type": "code",
   "execution_count": null,
   "metadata": {},
   "outputs": [],
   "source": [
    "FibArray = [0,1] \n",
    "  \n",
    "def fibonacci(n): \n",
    "    if n<0: \n",
    "        print(\"Incorrect input\") \n",
    "    elif n<=len(FibArray): \n",
    "        return FibArray[n-1] \n",
    "    else: \n",
    "        temp_fib = fibonacci(n-1)+fibonacci(n-2) \n",
    "        FibArray.append(temp_fib) \n",
    "        return temp_fib "
   ]
  },
  {
   "cell_type": "markdown",
   "metadata": {},
   "source": [
    "#### Find days until warmer temperature in list"
   ]
  },
  {
   "cell_type": "markdown",
   "metadata": {},
   "source": [
    "Given a list of daily temperatures T, return a list such that, for each day in the input, tells you how many days you would have to wait until a warmer temperature. If there is no future day for which this is possible, put 0 instead.\n",
    "For example, given the list of temperatures T = [73, 74, 75, 71, 69, 72, 76, 73], your output should be [1, 1, 4, 2, 1, 1, 0, 0].\n",
    "\n",
    "Note: The length of temperatures will be in the range [1, 30000]. Each temperature will be an integer in the range [30, 100]."
   ]
  },
  {
   "cell_type": "code",
   "execution_count": null,
   "metadata": {},
   "outputs": [],
   "source": [
    "from typing import List"
   ]
  },
  {
   "cell_type": "code",
   "execution_count": null,
   "metadata": {},
   "outputs": [],
   "source": [
    "def warmer_temps_store_index(temps: List[int]) -> List[int]:\n",
    "    \"\"\"Find the warmer temperatures by storing the index of the last occurence\n",
    "    of that temperature. Then on new temperatures checking the min index for temperatures \n",
    "    above that temperature in the list. If none is found, then return `inf`.\"\"\"\n",
    "    indexes = [float('inf')] * 102\n",
    "    ans = [0] * len(temps)\n",
    "    for i in range(len(temps) - 1, -1, -1):\n",
    "        # find the minimum index above the current temperature or finds `inf`\n",
    "        warmer_ind = min(indexes[t] for t in range(temps[i]+1, 102))\n",
    "        # if it found a value in the array other than `inf` then store \n",
    "        # it into the array otherwise remains 0\n",
    "        if warmer_ind < float('inf'):\n",
    "            ans[i] = warmer_ind - i\n",
    "        indexes[temps[i]] = i\n",
    "    return ans    \n",
    "    "
   ]
  },
  {
   "cell_type": "code",
   "execution_count": null,
   "metadata": {},
   "outputs": [],
   "source": [
    "def warmer_temps_stack(temps: List[int]) -> List[int]:\n",
    "    \"\"\"Find the warmer temperatures by using a stack that as you process the list it is updated to\n",
    "    always have the indexes of the hottest to coldest temperatures that have been seen above the current \n",
    "    temperature that are hotter than the current temperature.\"\"\"\n",
    "    ans = [0] * len(temps)\n",
    "    stack = [] # stores idx from hot to cold\n",
    "    for i in range(len(temps) - 1, -1, -1):\n",
    "        # pop off the stack until reach a temperature in the stack \n",
    "        # that is greater than the current or empty\n",
    "        while stack and temps[i] >= temps[stack[-1]]:\n",
    "            stack.pop()\n",
    "        \n",
    "        if stack:\n",
    "            ans[i] = stack[-1] - i\n",
    "        stack.append(i)\n",
    "    return ans    "
   ]
  },
  {
   "cell_type": "code",
   "execution_count": null,
   "metadata": {},
   "outputs": [],
   "source": [
    "assert warmer_temps_brute_force([73, 74, 75, 71, 69, 72, 76, 73]) == [1, 1, 4, 2, 1, 1, 0, 0]\n",
    "assert warmer_temps_stack([73, 74, 75, 71, 69, 72, 76, 73]) == [1, 1, 4, 2, 1, 1, 0, 0]"
   ]
  },
  {
   "cell_type": "markdown",
   "metadata": {},
   "source": [
    "### Easy"
   ]
  },
  {
   "cell_type": "markdown",
   "metadata": {},
   "source": [
    "#### Max profit from stock ticker"
   ]
  },
  {
   "cell_type": "markdown",
   "metadata": {},
   "source": [
    "Calculate the maximum profit (given an array representing the closing stock price each day) if you can only buy and sell once."
   ]
  },
  {
   "cell_type": "code",
   "execution_count": null,
   "metadata": {},
   "outputs": [],
   "source": [
    "def max_buy_sell(arr):\n",
    "    start = [arr[0], 0]\n",
    "    max_diff = 0\n",
    "    max_idx = [0, 0]\n",
    "    for i in range(1,len(arr)):\n",
    "        if max_diff < arr[i] - start[0]:\n",
    "            max_idx = [start[1], i]\n",
    "            max_diff = arr[i] - start[0]\n",
    "        if start[0] > arr[i]:\n",
    "            start = [arr[i], i]\n",
    "    return max_diff, max_idx"
   ]
  },
  {
   "cell_type": "code",
   "execution_count": null,
   "metadata": {},
   "outputs": [],
   "source": [
    "assert max_buy_sell([0,1,2,3,4,1,2,5,6,-1,2,5,2,3,4]) == (6, [0, 8])\n",
    "assert max_buy_sell([0,1,2,3,4,1,2,5,6,-1,2,7,2,3,4]) == (8, [9, 11])\n",
    "assert max_buy_sell([6,2,3,1,0]) == (1, [1,2])\n",
    "assert max_buy_sell([6,4,3,2,1]) == (0, [0,0])"
   ]
  },
  {
   "cell_type": "markdown",
   "metadata": {},
   "source": [
    "#### Pairs of integers whose sum equals a given number"
   ]
  },
  {
   "cell_type": "markdown",
   "metadata": {},
   "source": [
    "How do you find all pairs of integers in an integer array whose sum is equal to a given number?"
   ]
  },
  {
   "cell_type": "code",
   "execution_count": null,
   "metadata": {},
   "outputs": [],
   "source": [
    "def all_pairs_sum_count(arr, num):\n",
    "    hashset = set()\n",
    "    pairs = []\n",
    "    for i in arr:\n",
    "        if num - i in hashset:\n",
    "            pairs.append([num - i, i])\n",
    "        hashset.add(i)\n",
    "    return pairs\n",
    "\n",
    "assert all_pairs_sum_count([1,2,3,19,10,10,9,11], 20) == [[1,19],[10,10],[9,11]]\n",
    "# Not sure how duplicate pairs (like 10 three times) are supposed to be treated \n",
    "# could be tracked using a dictionary instead of a set()\n",
    "# Then either discarded or a count kept of the number of those pairs seen\n",
    "assert all_pairs_sum_count([1,2,3,19,10,10,10,9,11], 20) == [[1,19],[10,10],[10,10],[9,11]]"
   ]
  },
  {
   "cell_type": "markdown",
   "metadata": {},
   "source": [
    "#### Remove duplicates in a sorted array in-place"
   ]
  },
  {
   "cell_type": "markdown",
   "metadata": {},
   "source": [
    "Given a sorted array nums, remove the duplicates in-place such that each element appear only once and return the new length. Do not allocate extra space for another array, you must do this by modifying the input array in-place with O(1) extra memory."
   ]
  },
  {
   "cell_type": "code",
   "execution_count": null,
   "metadata": {},
   "outputs": [],
   "source": [
    "def remove_dups_in_place(nums):\n",
    "    if len(nums) == 0:\n",
    "        return 0\n",
    "    cur_end = 1\n",
    "    for i in range(1, len(nums)):\n",
    "        prev_val = nums[i-1]\n",
    "        if nums[i] != prev_val:\n",
    "            if cur_end != i:\n",
    "                nums[cur_end] = nums[i]\n",
    "            cur_end += 1\n",
    "    return cur_end\n",
    "\n",
    "assert remove_dups_in_place([1,2,2]) == 2\n",
    "assert remove_dups_in_place([1,1,2]) == 2\n",
    "assert remove_dups_in_place([1]) == 1\n",
    "assert remove_dups_in_place([]) == 0"
   ]
  },
  {
   "cell_type": "markdown",
   "metadata": {},
   "source": [
    "#### Largest Perimeter of a Triangle"
   ]
  },
  {
   "cell_type": "markdown",
   "metadata": {},
   "source": [
    "Given an array A of positive lengths, return the largest perimeter of a triangle with non-zero area, formed from 3 of these lengths.\n",
    "\n",
    "If it is impossible to form any triangle of non-zero area, return 0.\n"
   ]
  },
  {
   "cell_type": "code",
   "execution_count": null,
   "metadata": {},
   "outputs": [],
   "source": [
    "def largest_perim(arr):\n",
    "    if len(arr) < 3:\n",
    "        return 0\n",
    "    arr.sort(reverse=True)\n",
    "    for i in range(2,len(arr)):\n",
    "        if arr[i-2] < arr[i-1] + arr[i]:\n",
    "            return arr[i-2] + arr[i-1] + arr[i]\n",
    "    return 0"
   ]
  },
  {
   "cell_type": "code",
   "execution_count": null,
   "metadata": {},
   "outputs": [],
   "source": [
    "assert largest_perim([1,2]) == 0\n",
    "assert largest_perim([1,2,2]) == 5\n",
    "assert largest_perim([1,2,5]) == 0\n",
    "assert largest_perim([1,2,3,5,7,15]) == 15"
   ]
  },
  {
   "cell_type": "markdown",
   "metadata": {},
   "source": [
    "#### Longest non-repeating substring (by characters) in a string"
   ]
  },
  {
   "cell_type": "markdown",
   "metadata": {},
   "source": [
    "Return the longest substring with non-repeating characters."
   ]
  },
  {
   "cell_type": "code",
   "execution_count": null,
   "metadata": {},
   "outputs": [],
   "source": [
    "def non_repeating_substring(s):\n",
    "    if s == '':\n",
    "        return 0\n",
    "    max_count = 0\n",
    "    count = 1\n",
    "    sub_chars = set(s[0])\n",
    "    for char in s[1:]:\n",
    "        if char in sub_chars:\n",
    "            max_count = count\n",
    "            count = 1\n",
    "            sub_chars = set(char)\n",
    "        else:\n",
    "            count += 1\n",
    "            sub_chars.add(char)\n",
    "    if count > max_count:\n",
    "        return count\n",
    "    else:\n",
    "        return max_count"
   ]
  },
  {
   "cell_type": "code",
   "execution_count": null,
   "metadata": {},
   "outputs": [],
   "source": [
    "assert non_repeating_substring('abaacde') == 4\n",
    "assert non_repeating_substring('abaacdeacde') == 4\n",
    "assert non_repeating_substring('abcde') == 5\n",
    "assert non_repeating_substring('abaac') == 2\n",
    "assert non_repeating_substring('') == 0\n",
    "assert non_repeating_substring('aaaa') == 1"
   ]
  },
  {
   "cell_type": "markdown",
   "metadata": {},
   "source": [
    "#### Convert a roman numeral to an integer"
   ]
  },
  {
   "cell_type": "markdown",
   "metadata": {},
   "source": [
    "Given a roman numeral, convert it to an integer. Input is guranteed to be within the range from 1 to 3999."
   ]
  },
  {
   "cell_type": "code",
   "execution_count": null,
   "metadata": {},
   "outputs": [],
   "source": [
    "def convert_roman_to_num(s):\n",
    "    roman_to_num = {\"I\": 1, \"V\": 5, \"X\": 10, \"L\": 50, \n",
    "                     \"C\": 100, \"D\": 500, \"M\": 1000}\n",
    "    num = 0\n",
    "    for i in range(1, len(s)):\n",
    "        prev = roman_to_num[s[i-1]]\n",
    "        cur = roman_to_num[s[i]]\n",
    "        if prev < cur:\n",
    "            num -= prev\n",
    "        else:\n",
    "            num += prev\n",
    "    return num + roman_to_num[s[-1:]]"
   ]
  },
  {
   "cell_type": "code",
   "execution_count": null,
   "metadata": {},
   "outputs": [],
   "source": [
    "assert convert_roman_to_num(\"MCMXCIV\") == 1994\n",
    "assert convert_roman_to_num(\"LVIII\") == 58\n",
    "assert convert_roman_to_num(\"IV\") == 4\n",
    "assert convert_roman_to_num(\"I\") == 1\n",
    "assert convert_roman_to_num(\"MMMCMXCIX\") == 3999"
   ]
  },
  {
   "cell_type": "markdown",
   "metadata": {},
   "source": [
    "#### Calculate maximum sum of a contiguous subarray"
   ]
  },
  {
   "cell_type": "markdown",
   "metadata": {},
   "source": [
    "Given an integer array nums, find the contiguous subarray (containing at least one number)\n",
    "which has the largest sum and return its sum."
   ]
  },
  {
   "cell_type": "code",
   "execution_count": null,
   "metadata": {},
   "outputs": [],
   "source": [
    "def calculate_max_sum_subarry(nums):\n",
    "    max_sum = nums[0]\n",
    "    cur_sum = nums[0]\n",
    "    for i in range(1,len(nums)):\n",
    "        cur_sum += nums[i]\n",
    "        if max_sum < cur_sum:\n",
    "            max_sum = cur_sum\n",
    "        if cur_sum < 0:\n",
    "            cur_sum = 0\n",
    "    return max_sum\n",
    "            \n",
    "assert calculate_max_sum_subarry([1, -5, -10, -2, 2]) == 2\n",
    "assert calculate_max_sum_subarry([1, 3, -1, 5, 2]) == 10\n",
    "assert calculate_max_sum_subarry([1, -1, 5, 2]) == 7\n",
    "assert calculate_max_sum_subarry([1, -10, -5, -2]) == 1\n",
    "assert calculate_max_sum_subarry([-10, -5, -2]) == -2\n",
    "assert calculate_max_sum_subarry([-2, -5]) == -2\n",
    "assert calculate_max_sum_subarry([-5]) == -5"
   ]
  },
  {
   "cell_type": "markdown",
   "metadata": {},
   "source": [
    "#### Random uniform sampling from triangle"
   ]
  },
  {
   "cell_type": "markdown",
   "metadata": {},
   "source": [
    "Write a Python function sampleFromTriangle(n) that return a list of n points (x,y) uniformly sampled from within the triangle bounded by (0,0),(0,1),(1,0). Use random.uniform(a, b)  from the random package."
   ]
  },
  {
   "cell_type": "code",
   "execution_count": null,
   "metadata": {},
   "outputs": [],
   "source": [
    "def turn_off_top_right_axis_ticks(ax):\n",
    "    ax.spines['right'].set_visible(False)\n",
    "    ax.spines['top'].set_visible(False)\n",
    "    ax.yaxis.set_ticks_position('left')\n",
    "    ax.xaxis.set_ticks_position('bottom')\n"
   ]
  },
  {
   "cell_type": "code",
   "execution_count": null,
   "metadata": {},
   "outputs": [],
   "source": [
    "import random\n",
    "import matplotlib.pyplot as plt\n",
    "\n",
    "def sample_from_triangle(n, method='throwaway'):\n",
    "    points = []\n",
    "    while len(points) < n:\n",
    "        a = random.uniform(0,1)\n",
    "        b = random.uniform(0,1)\n",
    "        if a + b < 1:\n",
    "            points.append((a,b))\n",
    "        elif method == 'remap':\n",
    "            # remap the points into the triangle\n",
    "            a = 1 - a\n",
    "            b = 1 - b\n",
    "            points.append((a,b))\n",
    "\n",
    "    return points\n",
    "\n",
    "# Both triangles seeded the same (would get the same points \n",
    "# if the points outside the triangle not thrown away)\n",
    "rand_seed = random.randint(1,100000)\n",
    "random.seed(rand_seed)\n",
    "points = sample_from_triangle(200)\n",
    "random.seed(rand_seed)\n",
    "points_re = sample_from_triangle(200, 'remap')\n",
    "# unzip points into x, y for plotting\n",
    "x, y = zip(*points)\n",
    "x_re, y_re = zip(*points_re)\n",
    "\n",
    "# Setup and plot both triangles\n",
    "fig = plt.figure(figsize=(9,4))\n",
    "\n",
    "ax = fig.add_subplot(1, 2, 1, xlim=(0,1), ylim=(0,1))\n",
    "ax.scatter(x, y)\n",
    "ax.plot((0,1), (1,0), 'r--')\n",
    "turn_off_top_right_axis_ticks(ax)\n",
    "\n",
    "ax1 = fig.add_subplot(1, 2, 2, xlim=(0,1), ylim=(0,1))\n",
    "ax1.scatter(x_re, y_re)\n",
    "ax1.plot((0,1), (1,0), 'r--')\n",
    "turn_off_top_right_axis_ticks(ax1)"
   ]
  },
  {
   "cell_type": "markdown",
   "metadata": {},
   "source": [
    "#### Transpose a Matrix"
   ]
  },
  {
   "cell_type": "markdown",
   "metadata": {},
   "source": [
    "##### Standard"
   ]
  },
  {
   "cell_type": "code",
   "execution_count": null,
   "metadata": {},
   "outputs": [],
   "source": [
    "def transpose(A, B, M=3, N=4): \n",
    "    for i in range(N): \n",
    "        for j in range(M): \n",
    "            B[i][j] = A[j][i]"
   ]
  },
  {
   "cell_type": "markdown",
   "metadata": {},
   "source": [
    "##### One Line (using Pythons fancy list indexing)"
   ]
  },
  {
   "cell_type": "code",
   "execution_count": null,
   "metadata": {},
   "outputs": [],
   "source": [
    "def transpose_fancy_index(A):\n",
    "    n = len(A[0])\n",
    "    B = sum(A, [])\n",
    "    return [B[i::n] for i in range(n)]"
   ]
  },
  {
   "cell_type": "code",
   "execution_count": null,
   "metadata": {},
   "outputs": [],
   "source": [
    "def transpose_fancy_index_one_line(A):\n",
    "    return [sum(A, [])[i::n] for i in range(len(A[0]))]"
   ]
  },
  {
   "cell_type": "markdown",
   "metadata": {},
   "source": [
    "##### One Line (using list comprehension)"
   ]
  },
  {
   "cell_type": "code",
   "execution_count": null,
   "metadata": {},
   "outputs": [],
   "source": [
    "# mat = [[1,2],[3,4],[5,6]] \n",
    "mat = [[1,2,3],[4,5,6],[7,8,9]] \n",
    "new_mat = [[row[i] for row in mat] for i in range(len(mat[0]))]\n",
    "print(\"Transpose is:\")\n",
    "for row in new_mat: \n",
    "    print(row) "
   ]
  },
  {
   "cell_type": "markdown",
   "metadata": {},
   "source": [
    "##### One Line (using zip)"
   ]
  },
  {
   "cell_type": "code",
   "execution_count": null,
   "metadata": {},
   "outputs": [],
   "source": [
    "# mat = [[1,2],[3,4],[5,6]] \n",
    "mat = [[1,2,3],[4,5,6],[7,8,9]] \n",
    "result_zip = zip(*mat) \n",
    "print(\"Transpose using zip is:\")\n",
    "for row in result_zip:\n",
    "    print(row) "
   ]
  },
  {
   "cell_type": "markdown",
   "metadata": {},
   "source": [
    "#### Check if Two Strings are Permutation of Each Other"
   ]
  },
  {
   "cell_type": "markdown",
   "metadata": {},
   "source": [
    "Given two strings, write a method to decide if one is a premutation of the other."
   ]
  },
  {
   "cell_type": "code",
   "execution_count": null,
   "metadata": {},
   "outputs": [],
   "source": [
    "from collections import defaultdict\n",
    "import re\n",
    "\n",
    "\n",
    "def is_permutation(str1: str, str2: str, case: bool = True, space: bool = True) -> bool:\n",
    "    \"\"\"Checks if the two strings are permutations of each other. \n",
    "    Default is whitespace and case matters.\"\"\"\n",
    "    if case == False:\n",
    "        str1 = str1.lower()\n",
    "        str2 = str2.lower()\n",
    "    if space == False:\n",
    "        # prefer using regex but built-in string functions can do the same (both below)\n",
    "        # these get rid spaces, tabs, and newlines not just spaces\n",
    "        # str1 = \"\".join(str1.split()) # split gets rid of any spaces, tabs, newlines\n",
    "        # str2 = \"\".join(str2.split())\n",
    "        str1 = re.sub(r\"\\s+\", \"\", str1)\n",
    "        str2 = re.sub(r\"\\s+\", \"\", str2)\n",
    "    if len(str1) != len(str2):\n",
    "        return False\n",
    "    char_map1 = defaultdict(int)\n",
    "    char_map2 = defaultdict(int)\n",
    "    # Since both strings are the same length run through loading each character\n",
    "    # into a hashmap. Then check if the hashmaps have equal number of characters.\n",
    "    for i in range(len(str1)):\n",
    "        char_map1[str1[i]] += 1\n",
    "        char_map2[str2[i]] += 1\n",
    "    # Checks to see if every key exists in the other hashmap and the values are the same\n",
    "    for key in char_map1:\n",
    "        if key not in char_map2 or char_map2[key] != char_map1[key]:\n",
    "            return False\n",
    "    return True\n",
    "\n",
    "\n",
    "assert is_permutation(\"blah\", \"halb\") == True\n",
    "assert is_permutation(\"blah\", \"halB\") == False\n",
    "assert is_permutation(\"bLah\", \"halB\") == False\n",
    "assert is_permutation(\"bla h\", \"halb \") == True\n",
    "assert is_permutation(\"bla h\", \"halb\") == False\n",
    "assert is_permutation(\"bla hh\", \"halb\") == False\n",
    "assert is_permutation(\"bla h\\n\", \"h\\nalb \") == True\n",
    "assert is_permutation(\"bla h\\n\", \"h\\n\\nalb \") == False\n",
    "assert is_permutation(\"bLah\", \"halB\", case=False, space=False) == True\n",
    "assert is_permutation(\"bla h\", \"halb\", case=False, space=False) == True\n",
    "assert is_permutation(\"bla hh\", \"halb\", case=False, space=False) == False\n",
    "assert is_permutation(\"bla h\\nh\", \"h\\n\\nalb\", case=False, space=False) == False\n",
    "assert is_permutation(\"bla \\t\\nh\\n\", \"halb\\n\\n\\n\",\n",
    "                      case=False, space=False) == True"
   ]
  },
  {
   "cell_type": "markdown",
   "metadata": {},
   "source": [
    "#### Counting valleys and peaks of mountain"
   ]
  },
  {
   "cell_type": "markdown",
   "metadata": {},
   "source": [
    "Gary is a hiker and for every step he took he noted down if it was an uphill, U , or a downhill, D , step. Gary's hikes start and end at sea level and each step up or down represents a unit change in altitude.\n",
    "\n",
    "We define the following terms: \n",
    "  ● A mountain is a sequence of consecutive steps above sea level, starting with a step up from sea level and ending with a step down to sea level. \n",
    "  ● A valley is a sequence of consecutive steps below sea level, starting with a step down from sea level and ending with a step up to sea level. \n",
    "\n",
    "Given Gary's sequence of up and down steps during his last hike, find and print the number of (peaks, valleys) he walked through ? \n"
   ]
  },
  {
   "cell_type": "code",
   "execution_count": null,
   "metadata": {},
   "outputs": [],
   "source": [
    "def find_num_peaks_valleys(s):\n",
    "    \"\"\"Finds the peaks and Valleys from a string of U and D's. Only works\n",
    "    correctly when starts and ends at sea level.\"\"\"\n",
    "    valleys = 0\n",
    "    peaks = 0\n",
    "    cur_val = 0\n",
    "    in_valley = False\n",
    "    for char in s:\n",
    "        # stored here to check below when reach sea level whether came from\n",
    "        # a valley or a peak\n",
    "        temp_val = cur_val\n",
    "        if char == \"D\":\n",
    "            cur_val -= 1\n",
    "        else:\n",
    "            cur_val += 1\n",
    "        if cur_val == 0:\n",
    "            if temp_val < 0:\n",
    "                valleys += 1\n",
    "            else:\n",
    "                peaks += 1\n",
    "    return peaks, valleys\n",
    "\n",
    "assert find_num_peaks_valleys(\"DDUUUUUDDD\") == (1, 1) # 1 peak and 1 valley\n",
    "assert find_num_peaks_valleys(\"DUDUDU\") == (0, 3)\n",
    "assert find_num_peaks_valleys(\"UUDUDUDUDD\") == (1, 0)"
   ]
  },
  {
   "cell_type": "markdown",
   "metadata": {},
   "source": [
    "#### Determine if input string of different brackets is valid \"[({})]\""
   ]
  },
  {
   "cell_type": "markdown",
   "metadata": {},
   "source": [
    "Given a string containing just the characters '(', ')', '{', '}', '[' and ']', determine if the input string is valid.   \n",
    "An input string is valid if:  \n",
    "  • Open brackets must be closed by the same type of brackets.  \n",
    "  • Open brackets must be closed in the correct order.  \n",
    "  • Note that an empty string is also considered valid.  \n"
   ]
  },
  {
   "cell_type": "code",
   "execution_count": null,
   "metadata": {},
   "outputs": [],
   "source": [
    "b = []\n",
    "b.append('[')\n",
    "b.append('{')\n",
    "a = b.pop()\n",
    "print(a, b)"
   ]
  },
  {
   "cell_type": "code",
   "execution_count": null,
   "metadata": {},
   "outputs": [],
   "source": [
    "def brackets_are_valid(s: str) -> str:\n",
    "    opening = '[{('\n",
    "    closing = ')}]'\n",
    "    open_close_map = {'(': ')', '{': '}', '[': ']'}\n",
    "    brac_stack = []\n",
    "    for brac in s:\n",
    "        if brac in opening:\n",
    "            brac_stack.append(brac)\n",
    "        elif brac in closing:\n",
    "            # check to see if the closing bracket matches the most recent open bracket\n",
    "            if open_close_map[brac_stack.pop()] != brac:\n",
    "                return False\n",
    "        elif brac == \" \":\n",
    "            continue\n",
    "        # if put in non-bracket chars besides space will return false\n",
    "        # Just remove this to not care about any chars between brackets\n",
    "        else:\n",
    "            return False\n",
    "    if len(brac_stack) == 0:\n",
    "        return True\n",
    "    else:\n",
    "        return False\n",
    "    "
   ]
  },
  {
   "cell_type": "code",
   "execution_count": null,
   "metadata": {},
   "outputs": [],
   "source": [
    "assert brackets_are_valid(\"()\") == True\n",
    "assert brackets_are_valid(\"\") == True\n",
    "assert brackets_are_valid(\"()[]{}\") == True\n",
    "assert brackets_are_valid(\"(]\") == False\n",
    "assert brackets_are_valid(\"(]\") == False\n",
    "assert brackets_are_valid(\"([)]\") == False\n",
    "assert brackets_are_valid(\"{[()]}\") == True\n",
    "assert brackets_are_valid(\"{[()]\") == False\n",
    "assert brackets_are_valid(\"{ [( )]}\") == True"
   ]
  },
  {
   "cell_type": "markdown",
   "metadata": {},
   "source": [
    "#### Maximum amount of split balanced strings"
   ]
  },
  {
   "cell_type": "markdown",
   "metadata": {},
   "source": [
    "Balanced strings are those who have equal quantity of ’L’ and ’R’ characters. Given a\n",
    "balanced string s split it in the maximum amount of balanced strings. Return the maximum\n",
    "amount of splitted balanced strings.  \n",
    "\n",
    "**Example 1:**  \n",
    "Input: s = \"RLRRLLRLRL\"  \n",
    "Output: 4  \n",
    "Explanation: s can be split into \"RL\", \"RRLL\", \"RL\", \"RL\", each substring contains same number of ’L’ and ’R’."
   ]
  },
  {
   "cell_type": "code",
   "execution_count": null,
   "metadata": {},
   "outputs": [],
   "source": [
    "def split_strings(s: str) -> int:\n",
    "    if len(s) == 0:\n",
    "        return 0\n",
    "    char_count = 0\n",
    "    splits = 0\n",
    "    for char in s:\n",
    "        if char == 'R':\n",
    "            char_count += 1\n",
    "        else:\n",
    "            char_count += -1\n",
    "        if char_count == 0:\n",
    "            splits += 1\n",
    "\n",
    "    return splits\n",
    "\n",
    "assert split_strings('RLRRLLRLRL') == 4\n",
    "assert split_strings('RLLLLRRRLR') == 3\n",
    "assert split_strings('LLLLRRRR') == 1"
   ]
  },
  {
   "cell_type": "markdown",
   "metadata": {},
   "source": [
    "#### Given two binary strings, return their sum"
   ]
  },
  {
   "cell_type": "code",
   "execution_count": null,
   "metadata": {},
   "outputs": [],
   "source": [
    "def binary_sum_oneline(str1: str, str2: str) -> str:\n",
    "    return format(int(str1, 2) + int(str2, 2), 'b')"
   ]
  },
  {
   "cell_type": "code",
   "execution_count": null,
   "metadata": {},
   "outputs": [],
   "source": [
    "def get_num_from_binary_string_expanded(s: str) -> int:\n",
    "    num = 0\n",
    "    for i, c in enumerate(s[::-1]):\n",
    "        if c == '1':\n",
    "            num += 2**i\n",
    "    return num"
   ]
  },
  {
   "cell_type": "code",
   "execution_count": null,
   "metadata": {},
   "outputs": [],
   "source": [
    "def get_num_from_binary_string(s: str) -> int:\n",
    "    return sum([2**i if c == '1' else 0 for i, c in enumerate(s[::-1])])"
   ]
  },
  {
   "cell_type": "code",
   "execution_count": null,
   "metadata": {},
   "outputs": [],
   "source": [
    "def binary_sum(str1: str, str2: str) -> str:\n",
    "    n1 = get_num_from_binary_string(str1)\n",
    "    n2 = get_num_from_binary_string(str2)\n",
    "    n_sum = n1 + n2\n",
    "    nb = []\n",
    "    for exp in range(16,-1,-1):\n",
    "        if n_sum//2**exp >= 1:\n",
    "            nb.append(str(1))\n",
    "            n_sum = n_sum % 2**exp\n",
    "        elif nb:\n",
    "            nb.append(str(0))\n",
    "    return ''.join(nb)"
   ]
  },
  {
   "cell_type": "code",
   "execution_count": null,
   "metadata": {},
   "outputs": [],
   "source": [
    "assert binary_sum('11', '1') == '100'\n",
    "assert binary_sum('11', '10') == '101'\n",
    "assert binary_sum_oneline('11', '1') == '100'\n",
    "assert binary_sum_oneline('11', '10') == '101'"
   ]
  },
  {
   "cell_type": "markdown",
   "metadata": {},
   "source": [
    "#### Share contiguous segment of a bar such that length matches birth month and sum is birth day"
   ]
  },
  {
   "cell_type": "markdown",
   "metadata": {},
   "source": [
    "Lily has a chocolate bar and she wants to share it with Ron for his birthday. Each of the squares has an integer on it. She decides to share a contiguous segment of the bar selected such that the length of the segment matches Ron's birth month and the sum of the integers on the squares is equal to his birth day. You must determine how many ways she can divide the chocolate.\n",
    "\n",
    "Consider the chocolate bar as an array of squares, [2, 2, 1, 3, 2]. She wants to find segments summing to Ron's birth day, d=4, with a length equalling his birth month, m=2. In this case, there are two segments meeting her criteria: [2, 2]  and [1,3].\n",
    "\n"
   ]
  },
  {
   "cell_type": "code",
   "execution_count": null,
   "metadata": {},
   "outputs": [],
   "source": [
    "def share_bar(arr, d, m):\n",
    "    count = 0\n",
    "    for i in range(len(arr) - m + 1):\n",
    "        if sum(arr[i:i+m]) == d:\n",
    "            count += 1\n",
    "    return count\n",
    "\n",
    "assert share_bar([2, 2, 1, 3, 2], 4, 2) == 2"
   ]
  },
  {
   "cell_type": "markdown",
   "metadata": {},
   "source": [
    "#### Relpace letter i with number 1 in string"
   ]
  },
  {
   "cell_type": "markdown",
   "metadata": {},
   "source": [
    "Write a function that takes in a string consisting of only letters and replaces any occurence of the letter 'i' with the number '1'.  \n",
    "`Example: input 'Insight' returns output '1ns1ght'`"
   ]
  },
  {
   "cell_type": "code",
   "execution_count": null,
   "metadata": {},
   "outputs": [],
   "source": [
    "def replace_i(s: str) -> str:\n",
    "    \"\"\"This is one way using a list to replace all [\"I\",\"i\"] with 1s. \n",
    "    \"\"\"\n",
    "    return \"\".join([str(1) if char.upper() == \"I\" else char \n",
    "                    for char in s])\n",
    "\n",
    "def replace_i_map(s: str) -> str:\n",
    "    \"\"\"This is one way using map to replace all [\"I\",\"i\"] with 1s. \n",
    "    \"\"\"\n",
    "    return \"\".join(map(lambda char: str(1) if char.upper() == \"I\" else char, s))\n",
    "\n",
    "def replace_i_strreplace(s: str) -> str:\n",
    "    \"\"\"This is one way using str.replace() to replace all [\"I\",\"i\"] with 1s. \n",
    "    \"\"\"\n",
    "    str1 = str(1)\n",
    "    s.replace(\"i\", str1)\n",
    "    s.replace(\"I\", str1)\n",
    "    return s\n",
    "\n",
    "%timeit replace_i(\"Insight\") == '1ns1ght'\n",
    "%timeit replace_i_map(\"Insight\") == '1ns1ght'\n",
    "%timeit replace_i_strreplace(\"Insight\") == '1ns1ght'"
   ]
  },
  {
   "cell_type": "markdown",
   "metadata": {},
   "source": [
    "#### Swaps the case of every character"
   ]
  },
  {
   "cell_type": "markdown",
   "metadata": {},
   "source": [
    "Write a function that takes in a string consisting of only letters and swaps the case of every character.  \n",
    "`Example: input 'Insight' returns output 'iNSIGHT'`"
   ]
  },
  {
   "cell_type": "code",
   "execution_count": null,
   "metadata": {},
   "outputs": [],
   "source": [
    "for cnum in [ord(char) for char  in \"test\"]:\n",
    "    print(cnum)"
   ]
  },
  {
   "cell_type": "code",
   "execution_count": null,
   "metadata": {},
   "outputs": [],
   "source": [
    "def swap_case_charcodes(s: str) -> str:\n",
    "    \"\"\"Swap case using the character codes. First check if above character code 90,\n",
    "    which is capital \"Z\". Then subtract 32 or add 32 to get the lower case or upper case code.\n",
    "    Can also use the built-in string method or a stored dictionary for the mapping.\n",
    "    \"\"\"\n",
    "    return \"\".join([chr(cnum - 32)\n",
    "                    if cnum > 90 else chr(cnum + 32) \n",
    "                    for cnum in [ord(char) for char  in s]])\n",
    "\n",
    "def swap_case_map(s: str) -> str:\n",
    "    \"\"\"Swap case using a character code map. First check if above character code 90,\n",
    "    which is capital \"Z\". Then subtract 32 or add 32 to get the lower case or upper case code.    \n",
    "    \"\"\"\n",
    "    lower = [chr(i) for i in range(97, 123)]\n",
    "    upper = [chr(i) for i in range(65, 90)]\n",
    "    map_l_u = dict(zip(lower,upper))\n",
    "    map_u_l = dict(zip(upper,lower))\n",
    "    return \"\".join([map_l_u[char] \n",
    "                    if char in map_l_u else map_u_l[char]\n",
    "                    for char in s])\n",
    "\n",
    "lower = [chr(i) for i in range(97, 123)]\n",
    "upper = [chr(i) for i in range(65, 90)]\n",
    "map_l_u = dict(zip(lower,upper))\n",
    "map_u_l = dict(zip(upper,lower))\n",
    "def swap_case_map_outside(s: str) -> str:\n",
    "    \"\"\"Swap case using a map that isn't built inside the function. First check if above character code 90,\n",
    "    which is capital \"Z\". Then subtract 32 or add 32 to get the lower case or upper case code.\n",
    "    \n",
    "    \"\"\"\n",
    "    return \"\".join([map_l_u[char] \n",
    "                    if char in map_l_u else map_u_l[char]\n",
    "                    for char in s])\n",
    "\n",
    "def swap_case_str(s: str) -> str:\n",
    "    \"\"\"Swap case using built-in method str.swapcase()\n",
    "    \"\"\"\n",
    "    return s.swapcase()\n",
    "\n",
    "%timeit assert swap_case_charcodes(\"Insight\") == 'iNSIGHT'\n",
    "%timeit assert swap_case_map(\"Insight\") == 'iNSIGHT'\n",
    "%timeit assert swap_case_map_outside(\"Insight\") == 'iNSIGHT'\n",
    "%timeit assert swap_case_str(\"Insight\") == 'iNSIGHT'"
   ]
  },
  {
   "cell_type": "markdown",
   "metadata": {},
   "source": [
    "## CS: Sorting and Searching"
   ]
  },
  {
   "cell_type": "markdown",
   "metadata": {},
   "source": [
    "### Binary Search"
   ]
  },
  {
   "cell_type": "code",
   "execution_count": null,
   "metadata": {},
   "outputs": [],
   "source": [
    "def binary_search(alist, start, end, key):\n",
    "    \"\"\"Search key in sorted alist[start... end - 1] and return the \n",
    "    index of the key if found or -1 otherwise.\n",
    "    \"\"\"\n",
    "    if not start < end:\n",
    "        return -1\n",
    " \n",
    "    mid = (start + end)//2\n",
    "    if alist[mid] < key:\n",
    "        return binary_search(alist, mid + 1, end, key)\n",
    "    elif alist[mid] > key:\n",
    "        return binary_search(alist, start, mid, key)\n",
    "    else:\n",
    "        return mid"
   ]
  },
  {
   "cell_type": "code",
   "execution_count": null,
   "metadata": {},
   "outputs": [],
   "source": [
    "arr = sorted([8, 9, 3, 2, 6, 7, 4])\n",
    "print(arr)\n",
    "key = 8\n",
    "start = 0\n",
    "end = len(arr)\n",
    "print(\"Index is:\", binary_search(arr, start, end, key))"
   ]
  },
  {
   "cell_type": "markdown",
   "metadata": {},
   "source": [
    "### Bubble Sort"
   ]
  },
  {
   "cell_type": "markdown",
   "metadata": {},
   "source": [
    "Write a Python function that implements bubble sort on a non-empty array. What is the algorithm’s time complexity? How many times is the ‘if’ statement tested as a function of the length n of the array to sort? If your answer is $n^{2}$, propose a small modification of the algorithm that reduces it to $\\frac{n(n+1)}{2}$. Following this modification, has the algorithm’s time complexity changed?"
   ]
  },
  {
   "cell_type": "code",
   "execution_count": null,
   "metadata": {},
   "outputs": [],
   "source": [
    "def swap_nums(arr, i, j):\n",
    "    temp = arr[i]\n",
    "    arr[i] = arr[j]\n",
    "    arr[j] = temp\n",
    "\n",
    "def bubble_sort(nums):\n",
    "    # Time complexity is O(n) if it's already sorted\n",
    "    for i in range(len(nums)-1,-1,-1):\n",
    "        j = 0\n",
    "        sorted = True\n",
    "        # This solves not having n^2 if comparisons because stops \n",
    "        # on the part of the array that is already sorted\n",
    "        while j < i:\n",
    "            if nums[j] > nums[j+1]:\n",
    "                swap_nums(nums, j, j+1)\n",
    "                sorted = False\n",
    "            j+=1\n",
    "        # break out of the loop when run pass is done without a swap (means sorted)\n",
    "        if sorted == True:\n",
    "            break\n",
    "    return nums\n",
    "assert bubble_sort([1, 2, 3]) == [1,2,3]\n",
    "assert bubble_sort([3, 2, 1]) == [1,2,3]\n",
    "assert bubble_sort([10, 8, -10, 20, 5]) == [-10, 5, 8, 10, 20]\n",
    "assert bubble_sort([64, 34, 25, 12, 22, 11, 90]) == [11, 12, 22, 25, 34, 64, 90]"
   ]
  },
  {
   "cell_type": "markdown",
   "metadata": {},
   "source": [
    "## Stats"
   ]
  },
  {
   "cell_type": "markdown",
   "metadata": {},
   "source": [
    "### Cross-Validation (SKLearn)"
   ]
  },
  {
   "cell_type": "markdown",
   "metadata": {},
   "source": [
    "What are different cross validation strategies implemented in SKLearn?"
   ]
  },
  {
   "cell_type": "code",
   "execution_count": null,
   "metadata": {},
   "outputs": [],
   "source": [
    "from sklearn import datasets\n",
    "from sklearn.model_selection import ShuffleSplit, cross_val_score\n",
    "from sklearn import svm\n",
    "from sklearn import metrics\n",
    "\n",
    "iris = datasets.load_iris()\n",
    "clf = svm.SVC(kernel='linear', C=1)\n",
    "\n",
    "# Cross validate with f1-score (leave scoring blank to get accuracy)\n",
    "# No overlap in testing values for each fold\n",
    "cvs = cross_val_score(clf, iris.data, \n",
    "                      iris.target, cv=5, scoring='f1_macro')\n",
    "print(\"Scores:\", cvs)\n",
    "print(\"Avg Score:\", sum(cvs)/len(cvs))\n",
    "\n",
    "# Can use ShuffleSplit to specify the size of the train/test sets for each split\n",
    "# Therefore, there can be overlap in testing values across folds\n",
    "cv = ShuffleSplit(n_splits=5, test_size=0.3, random_state=0)\n",
    "print(\"\\nPrint out all the splits (shows test repeats values):\")\n",
    "for tr, te in cv.split(iris):\n",
    "    print(\"tr:\", tr, \"test:\", te)\n",
    "cvs1 = cross_val_score(clf, iris.data, iris.target, cv=cv)  \n",
    "print(\"\\nScores:\", cvs1)\n",
    "print(\"Avg Score:\", sum(cvs1)/len(cvs1))"
   ]
  },
  {
   "cell_type": "markdown",
   "metadata": {},
   "source": [
    "### ANOVA"
   ]
  },
  {
   "cell_type": "code",
   "execution_count": null,
   "metadata": {},
   "outputs": [],
   "source": [
    "import numpy as np"
   ]
  },
  {
   "cell_type": "markdown",
   "metadata": {},
   "source": [
    "Use the data below, showing a summary of highway gas mileage for several observations, to decide if \n",
    "the average highway gas mileage is the same for midsize cars, SUV’s, and pickup trucks.\n",
    "\n",
    "Test the appropriate hypotheses at the α = 0.01 level."
   ]
  },
  {
   "cell_type": "code",
   "execution_count": null,
   "metadata": {},
   "outputs": [],
   "source": [
    "cars = ['mid', 'suv', 'pickup']\n",
    "mean = np.array([25.8, 22.68, 21.29])\n",
    "n = np.array([31, 31, 14])\n",
    "std = np.array([2.56, 3.67, 2.76])"
   ]
  },
  {
   "cell_type": "markdown",
   "metadata": {},
   "source": [
    "#### Solution"
   ]
  },
  {
   "cell_type": "markdown",
   "metadata": {},
   "source": [
    "$H_0$ is that all the means are the same ($\\mu_M = \\mu_S = \\mu_P$)\n",
    "$H_a$ is that $H_0$ is not true\n",
    "\n",
    "Run an ANOVA to check if the means of these three groups are different from each other."
   ]
  },
  {
   "cell_type": "markdown",
   "metadata": {},
   "source": [
    "Need to find out first the Sum of Squares Between, which is the variability due to interaction between the groups:    \n",
    "$SSbetween = \\frac{\\sum(\\sum k_i) ^2} {n} - \\frac{T^2}{N}$  \n",
    "\n",
    "Then the variability in the data due to differences within people:  \n",
    "$SSwithin = \\sum Y^2 - \\frac{\\sum (\\sum a_i)^2}{n}$  \n",
    "\n",
    "Sum of Squares Total will be needed to calculate eta-squared later. This is the total variability in the data:  \n",
    "$SStotal = \\sum Y^2 - \\frac{T^2}{N}$"
   ]
  },
  {
   "cell_type": "markdown",
   "metadata": {},
   "source": [
    "Then calculate:  \n",
    "`MSbetween = SSbetween/DFbetween`  \n",
    "`MSwithin = SSwithin/DFwithin`  \n",
    "`F = MSbetween/MSwithin`  \n",
    "\n",
    "Use this to reject the null hypothesis:\n",
    "```\n",
    "import scipy.stats as stats\n",
    "p = stats.f.sf(F, DFbetween, DFwithin)\n",
    "```\n"
   ]
  },
  {
   "cell_type": "markdown",
   "metadata": {},
   "source": [
    "## Machine Learning"
   ]
  },
  {
   "cell_type": "markdown",
   "metadata": {},
   "source": [
    "### Iris SKLearn Modeling"
   ]
  },
  {
   "cell_type": "markdown",
   "metadata": {},
   "source": [
    "Run the Iris dataset through basic models in SKLearn and compare scores for different classes using the whole training set and with a train/test split."
   ]
  },
  {
   "cell_type": "markdown",
   "metadata": {},
   "source": [
    "#### No Train/Test Split"
   ]
  },
  {
   "cell_type": "code",
   "execution_count": null,
   "metadata": {},
   "outputs": [],
   "source": [
    "from sklearn.datasets import load_iris\n",
    "from sklearn.linear_model import LogisticRegression\n",
    "from sklearn.model_selection import train_test_split\n",
    "from sklearn.ensemble import RandomForestClassifier\n",
    "from sklearn.naive_bayes import GaussianNB"
   ]
  },
  {
   "cell_type": "code",
   "execution_count": null,
   "metadata": {},
   "outputs": [],
   "source": [
    "iris = load_iris()"
   ]
  },
  {
   "cell_type": "code",
   "execution_count": null,
   "metadata": {},
   "outputs": [],
   "source": [
    "print(iris.data.shape, iris.target_names)"
   ]
  },
  {
   "cell_type": "code",
   "execution_count": null,
   "metadata": {},
   "outputs": [],
   "source": [
    "reg = LogisticRegression(solver='lbfgs', \n",
    "                         multi_class='auto', \n",
    "                         max_iter=500).fit(iris.data, iris.target)"
   ]
  },
  {
   "cell_type": "code",
   "execution_count": null,
   "metadata": {},
   "outputs": [],
   "source": [
    "print(\"Accuracy is:\", reg.score(iris.data, iris.target))"
   ]
  },
  {
   "cell_type": "code",
   "execution_count": null,
   "metadata": {},
   "outputs": [],
   "source": [
    "targets = (iris.target == 0, iris.target == 1, iris.target == 2)\n",
    "print(\"Per class accuracy is:\")\n",
    "for i, targ in enumerate(targets):\n",
    "    print(iris.target_names[i], reg.score(iris.data[targ], iris.target[targ]))"
   ]
  },
  {
   "cell_type": "code",
   "execution_count": null,
   "metadata": {},
   "outputs": [],
   "source": [
    "naive = GaussianNB().fit(iris.data, iris.target)"
   ]
  },
  {
   "cell_type": "code",
   "execution_count": null,
   "metadata": {},
   "outputs": [],
   "source": [
    "print(\"Accuracy is:\", naive.score(iris.data, iris.target))"
   ]
  },
  {
   "cell_type": "code",
   "execution_count": null,
   "metadata": {},
   "outputs": [],
   "source": [
    "print(\"Per class accuracy is:\")\n",
    "for i, targ in enumerate(targets):\n",
    "    print(iris.target_names[i], naive.score(iris.data[targ], iris.target[targ]))"
   ]
  },
  {
   "cell_type": "code",
   "execution_count": null,
   "metadata": {},
   "outputs": [],
   "source": [
    "rf = RandomForestClassifier(n_estimators=100).fit(iris.data, iris.target)"
   ]
  },
  {
   "cell_type": "code",
   "execution_count": null,
   "metadata": {},
   "outputs": [],
   "source": [
    "print(\"Accuracy is:\", rf.score(iris.data, iris.target))"
   ]
  },
  {
   "cell_type": "code",
   "execution_count": null,
   "metadata": {},
   "outputs": [],
   "source": [
    "print(\"Per class accuracy is:\")\n",
    "for i, targ in enumerate(targets):\n",
    "    print(iris.target_names[i], rf.score(iris.data[targ], iris.target[targ]))"
   ]
  },
  {
   "cell_type": "markdown",
   "metadata": {},
   "source": [
    "#### Train and Test Split"
   ]
  },
  {
   "cell_type": "code",
   "execution_count": null,
   "metadata": {},
   "outputs": [],
   "source": [
    "X_train, X_test, y_train, y_test = train_test_split(iris.data, iris.target)"
   ]
  },
  {
   "cell_type": "code",
   "execution_count": null,
   "metadata": {},
   "outputs": [],
   "source": [
    "reg = LogisticRegression(solver='lbfgs', max_iter=500, multi_class='auto').fit(X_train, y_train)\n",
    "reg.score(X_test, y_test)"
   ]
  },
  {
   "cell_type": "code",
   "execution_count": null,
   "metadata": {},
   "outputs": [],
   "source": [
    "targets = (y_test == 0, y_test == 1, y_test == 2)\n",
    "print(\"Per class accuracy is:\")\n",
    "for i, targ in enumerate(targets):\n",
    "    print(iris.target_names[i], reg.score(X_test[targ], y_test[targ]))"
   ]
  },
  {
   "cell_type": "code",
   "execution_count": null,
   "metadata": {},
   "outputs": [],
   "source": [
    "gauss = GaussianNB().fit(X_train, y_train)\n",
    "gauss.score(X_test, y_test)"
   ]
  },
  {
   "cell_type": "code",
   "execution_count": null,
   "metadata": {},
   "outputs": [],
   "source": [
    "print(\"Per class accuracy is:\")\n",
    "for i, targ in enumerate(targets):\n",
    "    print(iris.target_names[i], gauss.score(X_test[targ], y_test[targ]))"
   ]
  },
  {
   "cell_type": "code",
   "execution_count": null,
   "metadata": {},
   "outputs": [],
   "source": [
    "rf = RandomForestClassifier(n_estimators=100).fit(X_train, y_train)\n",
    "rf.score(X_test, y_test)"
   ]
  },
  {
   "cell_type": "code",
   "execution_count": null,
   "metadata": {},
   "outputs": [],
   "source": [
    "print(\"Per class accuracy is:\")\n",
    "for i, targ in enumerate(targets):\n",
    "    print(iris.target_names[i], gauss.score(X_test[targ], y_test[targ]))"
   ]
  },
  {
   "cell_type": "markdown",
   "metadata": {},
   "source": [
    "## End"
   ]
  }
 ],
 "metadata": {
  "language_info": {
   "name": "python",
   "pygments_lexer": "ipython3"
  }
 },
 "nbformat": 4,
 "nbformat_minor": 2
}
