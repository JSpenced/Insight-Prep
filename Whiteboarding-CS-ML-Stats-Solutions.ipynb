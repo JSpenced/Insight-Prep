{
 "cells": [
  {
   "cell_type": "markdown",
   "metadata": {},
   "source": [
    "A notebook containing the solutions to most the CS whiteboarding questions asked during Insight Toronto Session 19C, as well as, some other miscellaneous questions from Stats and Machine Learning done during whiteboarding. If imports are required, they are included above each question (instead of in the imports section) to enable each section to be run by itself."
   ]
  },
  {
   "cell_type": "markdown",
   "metadata": {},
   "source": [
    "## Imports"
   ]
  },
  {
   "cell_type": "markdown",
   "metadata": {},
   "source": [
    "Not necessary to run this, but I put these in almost every notebook."
   ]
  },
  {
   "cell_type": "code",
   "execution_count": null,
   "metadata": {},
   "outputs": [],
   "source": [
    "%reload_ext autoreload\n",
    "%autoreload 2\n",
    "%matplotlib inline"
   ]
  },
  {
   "cell_type": "code",
   "execution_count": null,
   "metadata": {},
   "outputs": [],
   "source": [
    "# If input or output variables using extraneous memory run below specify (in or out)\n",
    "# %reset -f out\n",
    "# %reset -f in\n",
    "\n",
    "def sizeof_fmt(num, suffix='B'):\n",
    "    ''' by Fred Cirera,  https://stackoverflow.com/a/1094933/1870254, modified'''\n",
    "    for unit in ['','Ki','Mi','Gi','Ti','Pi','Ei','Zi']:\n",
    "        if abs(num) < 1024.0:\n",
    "            return \"%3.1f %s%s\" % (num, unit, suffix)\n",
    "        num /= 1024.0\n",
    "    return \"%.1f %s%s\" % (num, 'Yi', suffix)\n",
    "\n",
    "def get_var_sizes(local_vars = locals().items(), max_num=12):\n",
    "    # if sys not imported then import it\n",
    "    # after sys imported use 'copy' in sys.modules\n",
    "    if \"sys\" not in dir():\n",
    "        import sys\n",
    "        \n",
    "    for name, size in sorted(((name, sys.getsizeof(value)) for name, value in local_vars),\n",
    "                             key= lambda x: -x[1])[:max_num]:\n",
    "        print(\"{:>30}: {:>8}\".format(name, sizeof_fmt(size)))\n",
    "get_var_sizes()"
   ]
  },
  {
   "cell_type": "markdown",
   "metadata": {},
   "source": [
    "## CS: Whiteboarding (Leetcode type)"
   ]
  },
  {
   "cell_type": "markdown",
   "metadata": {},
   "source": [
    "Categories describing the difficulty are just my guess to what they would be on Leetcode or elsewhere. "
   ]
  },
  {
   "cell_type": "markdown",
   "metadata": {},
   "source": [
    "### Hard"
   ]
  },
  {
   "cell_type": "markdown",
   "metadata": {},
   "source": [
    "#### Return a Deep Copy of a List"
   ]
  },
  {
   "cell_type": "markdown",
   "metadata": {},
   "source": [
    "A linked list is given such that each node contains an additional random pointer which could point to any node in the list or null.\n",
    "\n",
    "Return a deep copy of the list."
   ]
  },
  {
   "cell_type": "code",
   "execution_count": null,
   "metadata": {},
   "outputs": [],
   "source": [
    "class Node:\n",
    "    def __init__(self, val, next, random):\n",
    "        self.val = val\n",
    "        self.next = next\n",
    "        self.random = random"
   ]
  },
  {
   "cell_type": "code",
   "execution_count": null,
   "metadata": {},
   "outputs": [],
   "source": [
    "    def copyRandomList(head: 'Node') -> 'Node':\n",
    "        if head == None:\n",
    "            return None\n",
    "        copy_head = Node(head.val, None, None)\n",
    "        head_cur = head\n",
    "        copy_cur = copy_head\n",
    "        # Need None: None in case the random pointer is equal to None\n",
    "        map_old_to_new = {None: None}\n",
    "        i = 1\n",
    "        # creates the initial list and maps original list references to new list references\n",
    "        # this can be used to set the random nodes in the second loop\n",
    "        while head_cur!= None:\n",
    "            map_old_to_new[head_cur] = copy_cur\n",
    "            head_cur = head_cur.next\n",
    "            if head_cur == None:\n",
    "                copy_cur.next = None\n",
    "            else:\n",
    "                copy_cur.next = Node(head_cur.val, None, None)\n",
    "            copy_cur = copy_cur.next\n",
    "            i+=1\n",
    "\n",
    "        # Rerun through the lists setting the random pointers \n",
    "        # Passes the reference of the old list into the dictionary which is a mapping to the \n",
    "        # same nodes in the new list so used to set the random pointers in the new list\n",
    "        head_cur = head\n",
    "        copy_cur = copy_head\n",
    "        while head_cur!= None:\n",
    "            copy_cur.random = map_old_to_new[head_cur.random]\n",
    "            head_cur = head_cur.next\n",
    "            copy_cur = copy_cur.next\n",
    "\n",
    "        return copy_head\n"
   ]
  },
  {
   "cell_type": "code",
   "execution_count": null,
   "metadata": {},
   "outputs": [],
   "source": [
    "# Make the graph\n",
    "node1 = Node(1, None, None)\n",
    "node2 = Node(2, None, None)\n",
    "node1.next = node2\n",
    "node1.random = node2\n",
    "node2.random = node2\n",
    "\n",
    "graph = copyRandomList(node1)\n",
    "\n",
    "# Checks to make sure the graph was created correctly\n",
    "assert graph.val == 1\n",
    "assert graph != node1\n",
    "assert graph.next.val == node2.val\n",
    "assert graph.random != node2\n",
    "assert graph.random == graph.next\n",
    "assert graph.random.val == 2\n",
    "assert graph.next.random == graph.next\n",
    "assert graph.next.random.val == 2"
   ]
  },
  {
   "cell_type": "markdown",
   "metadata": {},
   "source": [
    "### Medium"
   ]
  },
  {
   "cell_type": "markdown",
   "metadata": {},
   "source": [
    "#### Array of squares (non-decreasing order)"
   ]
  },
  {
   "cell_type": "markdown",
   "metadata": {},
   "source": [
    "Given an array of integers A sorted in non-decreasing order, return an array of the squares of\n",
    "each number, also in sorted non-decreasing order."
   ]
  },
  {
   "cell_type": "code",
   "execution_count": null,
   "metadata": {},
   "outputs": [],
   "source": [
    "def array_of_squares(A):\n",
    "    # store temp answer\n",
    "    answer = []\n",
    "    l, r = 0, len(A) - 1\n",
    "    # go from left and right index simultaneously \n",
    "    # appending the bigger value to the list\n",
    "    while l <= r:\n",
    "        left, right = abs(A[l]), abs(A[r])\n",
    "        if left > right:\n",
    "            # much more time efficient to do left*left instead of left**2\n",
    "            # also more efficient to append then do answer += [left*left]\n",
    "            answer.append(left*left)\n",
    "            l += 1\n",
    "        else:\n",
    "            answer.append(right*right)\n",
    "            r -= 1\n",
    "    # returns the list in reverse order because sorted in decreasing order\n",
    "    # not non-decreasing order\n",
    "    return answer[::-1]"
   ]
  },
  {
   "cell_type": "code",
   "execution_count": null,
   "metadata": {},
   "outputs": [],
   "source": [
    "def array_of_squares_nonegs(A):\n",
    "    # store temp answer\n",
    "    answer = []\n",
    "    l, r = 0, len(A) - 1\n",
    "    # go from left and right index simultaneously \n",
    "    # appending the bigger value to the list\n",
    "    while l <= r:\n",
    "        left, right = abs(A[l]), abs(A[r])\n",
    "        if left > right:\n",
    "            # much more time efficient to do left*left instead of left**2\n",
    "            # also more efficient to append then do answer += [left*left]\n",
    "            answer.append(left*left)\n",
    "            l += 1\n",
    "        # if rarely have negative numbers this will be faster\n",
    "        elif A[l] > -1:\n",
    "            return answer[::-1].extend([x*x for x in A[l:r+1]][::-1])\n",
    "        else:\n",
    "            answer.append(right*right)\n",
    "            r -= 1\n",
    "    # returns the list in reverse order because sorted in decreasing order\n",
    "    # not non-decreasing order\n",
    "    return answer[::-1]"
   ]
  },
  {
   "cell_type": "code",
   "execution_count": null,
   "metadata": {},
   "outputs": [],
   "source": [
    "import collections\n",
    "def array_of_squares_deque(A):\n",
    "    # The above implementation is using a list as a queue. Directly\n",
    "    # using a queue in collection might be faster/more efficient.\n",
    "    answer = collections.deque()\n",
    "    l, r = 0, len(A) - 1\n",
    "    while l <= r:\n",
    "        left, right = abs(A[l]), abs(A[r])\n",
    "        if left > right:\n",
    "            answer.appendleft(left*left)\n",
    "            l += 1\n",
    "        else:\n",
    "            answer.appendleft(right*right)\n",
    "            r -= 1\n",
    "    return list(answer)"
   ]
  },
  {
   "cell_type": "code",
   "execution_count": null,
   "metadata": {},
   "outputs": [],
   "source": []
  },
  {
   "cell_type": "code",
   "execution_count": null,
   "metadata": {},
   "outputs": [],
   "source": [
    "start=-1000\n",
    "end=100000\n",
    "skip=3\n",
    "%timeit array_of_squares(range(start,end,skip))\n",
    "%timeit array_of_squares_nonegs(range(start,end,skip))\n",
    "%timeit array_of_squares_deque(range(start,end,skip))"
   ]
  },
  {
   "cell_type": "code",
   "execution_count": null,
   "metadata": {},
   "outputs": [],
   "source": [
    "assert array_of_squares([-10,-2,0,1,2,3]) == [0, 1, 4, 4, 9, 100]\n",
    "assert array_of_squares_deque([-10,-2,0,1,2,3]) == [0, 1, 4, 4, 9, 100]\n",
    "assert array_of_squares([-1,1,2,3]) == [1,1, 4, 9]\n",
    "assert array_of_squares_deque([-1,1,2,3]) == [1,1, 4, 9]"
   ]
  },
  {
   "cell_type": "markdown",
   "metadata": {},
   "source": [
    "#### All permutations of a given string using recursion"
   ]
  },
  {
   "cell_type": "markdown",
   "metadata": {},
   "source": [
    "Write a program to print all permutations of a given string using recursion.  \n",
    "A permutation, also called an “arrangement number” or “order,” is a rearrangement of the elements of an\n",
    "ordered list `S` into a one‐to‐one correspondence with `S` itself. A string of length `n` has `n!` permutation.  \n",
    "Below are the permutations of string `ABC`.\n",
    "`[ABC ACB BAC BCA CBA CAB]`"
   ]
  },
  {
   "cell_type": "code",
   "execution_count": null,
   "metadata": {},
   "outputs": [],
   "source": [
    "def all_permutations(s, depth=0, perms=None):\n",
    "    if perms == None: perms = []\n",
    "    if depth == len(s)-1:\n",
    "        perms.append(s)\n",
    "    else:\n",
    "        for ind in range(depth, len(s)):\n",
    "            perm_s = list(s)\n",
    "            perm_s[ind] = s[depth]\n",
    "            perm_s[depth] = s[ind]\n",
    "            all_permutations(''.join(perm_s), depth+1, perms)\n",
    "    return perms"
   ]
  },
  {
   "cell_type": "code",
   "execution_count": null,
   "metadata": {},
   "outputs": [],
   "source": [
    "# Much more efficient using lists and backtrack than strings\n",
    "def all_permutations_backtrack(a, l=0, r=len(a)-1, perms=None):\n",
    "    if perms == None: perms = []\n",
    "    if l==r:\n",
    "        perms.append(''.join(a))\n",
    "    else:\n",
    "        for i in range(l,r+1):\n",
    "            a[l], a[i] = a[i], a[l]\n",
    "            all_permutations_backtrack(a, l+1, r, perms)\n",
    "            a[l], a[i] = a[i], a[l] # backtrack\n",
    "    return perms"
   ]
  },
  {
   "cell_type": "code",
   "execution_count": null,
   "metadata": {},
   "outputs": [],
   "source": [
    "%timeit all_permutations(\"abcdefg\")\n",
    "%timeit all_permutations_backtrack(list(\"abcdefg\"))"
   ]
  },
  {
   "cell_type": "code",
   "execution_count": null,
   "metadata": {},
   "outputs": [],
   "source": [
    "assert all_permutations(\"abc\") == ['abc', 'acb', 'bac', 'bca', 'cba', 'cab']\n",
    "assert all_permutations_backtrack(list(\"abc\")) == ['abc', 'acb', 'bac', 'bca', 'cba', 'cab']"
   ]
  },
  {
   "cell_type": "markdown",
   "metadata": {},
   "source": [
    "#### Fibonacci Numbers"
   ]
  },
  {
   "cell_type": "markdown",
   "metadata": {},
   "source": [
    "Memory saving way (non-recursive so doesn't have a bunch of calls on the stack):"
   ]
  },
  {
   "cell_type": "code",
   "execution_count": null,
   "metadata": {},
   "outputs": [],
   "source": [
    "def fibonacci(n): \n",
    "    a = 0\n",
    "    b = 1\n",
    "    if n < 0: \n",
    "        print(\"Incorrect input\") \n",
    "    elif n == 0: \n",
    "        return a \n",
    "    elif n == 1: \n",
    "        return b \n",
    "    else: \n",
    "        for i in range(2,n): \n",
    "            c = a + b \n",
    "            a = b \n",
    "            b = c \n",
    "        return b "
   ]
  },
  {
   "cell_type": "markdown",
   "metadata": {},
   "source": [
    "Dynamic programming approach so the sub-array sums are saved and used if already calculated when the recursion reaches that point."
   ]
  },
  {
   "cell_type": "code",
   "execution_count": null,
   "metadata": {},
   "outputs": [],
   "source": [
    "FibArray = [0,1] \n",
    "  \n",
    "def fibonacci(n): \n",
    "    if n<0: \n",
    "        print(\"Incorrect input\") \n",
    "    elif n<=len(FibArray): \n",
    "        return FibArray[n-1] \n",
    "    else: \n",
    "        temp_fib = fibonacci(n-1)+fibonacci(n-2) \n",
    "        FibArray.append(temp_fib) \n",
    "        return temp_fib "
   ]
  },
  {
   "cell_type": "markdown",
   "metadata": {},
   "source": [
    "### Easy"
   ]
  },
  {
   "cell_type": "markdown",
   "metadata": {},
   "source": [
    "#### Max profit from stock ticker"
   ]
  },
  {
   "cell_type": "markdown",
   "metadata": {},
   "source": [
    "Calculate the maximum profit (given an array representing the closing stock price each day) if you can only buy and sell once."
   ]
  },
  {
   "cell_type": "code",
   "execution_count": null,
   "metadata": {},
   "outputs": [],
   "source": [
    "def max_buy_sell(arr):\n",
    "    start = [arr[0], 0]\n",
    "    max_diff = 0\n",
    "    max_idx = [0, 0]\n",
    "    for i in range(1,len(arr)):\n",
    "        if max_diff < arr[i] - start[0]:\n",
    "            max_idx = [start[1], i]\n",
    "            max_diff = arr[i] - start[0]\n",
    "        if start[0] > arr[i]:\n",
    "            start = [arr[i], i]\n",
    "    return max_diff, max_idx"
   ]
  },
  {
   "cell_type": "code",
   "execution_count": null,
   "metadata": {},
   "outputs": [],
   "source": [
    "assert max_buy_sell([0,1,2,3,4,1,2,5,6,-1,2,5,2,3,4]) == (6, [0, 8])\n",
    "assert max_buy_sell([0,1,2,3,4,1,2,5,6,-1,2,7,2,3,4]) == (8, [9, 11])\n",
    "assert max_buy_sell([6,2,3,1,0]) == (1, [1,2])\n",
    "assert max_buy_sell([6,4,3,2,1]) == (0, [0,0])"
   ]
  },
  {
   "cell_type": "markdown",
   "metadata": {},
   "source": [
    "#### Pairs of integers whose sum equals a given number"
   ]
  },
  {
   "cell_type": "markdown",
   "metadata": {},
   "source": [
    "How do you find all pairs of integers in an integer array whose sum is equal to a given number?"
   ]
  },
  {
   "cell_type": "code",
   "execution_count": null,
   "metadata": {},
   "outputs": [],
   "source": [
    "def all_pairs_sum_count(arr, num):\n",
    "    hashset = set()\n",
    "    pairs = []\n",
    "    for i in arr:\n",
    "        if num - i in hashset:\n",
    "            pairs.append([num - i, i])\n",
    "        hashset.add(i)\n",
    "    return pairs\n",
    "\n",
    "assert all_pairs_sum_count([1,2,3,19,10,10,9,11], 20) == [[1,19],[10,10],[9,11]]\n",
    "# Not sure how duplicate pairs (like 10 three times) are supposed to be treated \n",
    "# could be tracked using a dictionary instead of a set()\n",
    "# Then either discarded or a count kept of the number of those pairs seen\n",
    "assert all_pairs_sum_count([1,2,3,19,10,10,10,9,11], 20) == [[1,19],[10,10],[10,10],[9,11]]"
   ]
  },
  {
   "cell_type": "markdown",
   "metadata": {},
   "source": [
    "#### Remove duplicates in a sorted array in-place"
   ]
  },
  {
   "cell_type": "markdown",
   "metadata": {},
   "source": [
    "Given a sorted array nums, remove the duplicates in-place such that each element appear only once and return the new length. Do not allocate extra space for another array, you must do this by modifying the input array in-place with O(1) extra memory."
   ]
  },
  {
   "cell_type": "code",
   "execution_count": null,
   "metadata": {},
   "outputs": [],
   "source": [
    "def remove_dups_in_place(nums):\n",
    "    if len(nums) == 0:\n",
    "        return 0\n",
    "    cur_end = 1\n",
    "    for i in range(1, len(nums)):\n",
    "        prev_val = nums[i-1]\n",
    "        if nums[i] != prev_val:\n",
    "            if cur_end != i:\n",
    "                nums[cur_end] = nums[i]\n",
    "            cur_end += 1\n",
    "    return cur_end\n",
    "\n",
    "assert remove_dups_in_place([1,2,2]) == 2\n",
    "assert remove_dups_in_place([1,1,2]) == 2\n",
    "assert remove_dups_in_place([1]) == 1\n",
    "assert remove_dups_in_place([]) == 0"
   ]
  },
  {
   "cell_type": "markdown",
   "metadata": {},
   "source": [
    "#### Largest Perimeter of a Triangle"
   ]
  },
  {
   "cell_type": "markdown",
   "metadata": {},
   "source": [
    "Given an array A of positive lengths, return the largest perimeter of a triangle with non-zero area, formed from 3 of these lengths.\n",
    "\n",
    "If it is impossible to form any triangle of non-zero area, return 0.\n"
   ]
  },
  {
   "cell_type": "code",
   "execution_count": null,
   "metadata": {},
   "outputs": [],
   "source": [
    "def largest_perim(arr):\n",
    "    if len(arr) < 3:\n",
    "        return 0\n",
    "    arr.sort(reverse=True)\n",
    "    for i in range(2,len(arr)):\n",
    "        if arr[i-2] < arr[i-1] + arr[i]:\n",
    "            return arr[i-2] + arr[i-1] + arr[i]\n",
    "    return 0"
   ]
  },
  {
   "cell_type": "code",
   "execution_count": null,
   "metadata": {},
   "outputs": [],
   "source": [
    "assert largest_perim([1,2]) == 0\n",
    "assert largest_perim([1,2,2]) == 5\n",
    "assert largest_perim([1,2,5]) == 0\n",
    "assert largest_perim([1,2,3,5,7,15]) == 15"
   ]
  },
  {
   "cell_type": "markdown",
   "metadata": {},
   "source": [
    "#### Longest non-repeating substring (by characters) in a string"
   ]
  },
  {
   "cell_type": "markdown",
   "metadata": {},
   "source": [
    "Return the longest substring with non-repeating characters."
   ]
  },
  {
   "cell_type": "code",
   "execution_count": null,
   "metadata": {},
   "outputs": [],
   "source": [
    "def non_repeating_substring(s):\n",
    "    if s == '':\n",
    "        return 0\n",
    "    max_count = 0\n",
    "    count = 1\n",
    "    sub_chars = set(s[0])\n",
    "    for char in s[1:]:\n",
    "        if char in sub_chars:\n",
    "            max_count = count\n",
    "            count = 1\n",
    "            sub_chars = set(char)\n",
    "        else:\n",
    "            count += 1\n",
    "            sub_chars.add(char)\n",
    "    if count > max_count:\n",
    "        return count\n",
    "    else:\n",
    "        return max_count"
   ]
  },
  {
   "cell_type": "code",
   "execution_count": null,
   "metadata": {},
   "outputs": [],
   "source": [
    "assert non_repeating_substring('abaacde') == 4\n",
    "assert non_repeating_substring('abaacdeacde') == 4\n",
    "assert non_repeating_substring('abcde') == 5\n",
    "assert non_repeating_substring('abaac') == 2\n",
    "assert non_repeating_substring('') == 0\n",
    "assert non_repeating_substring('aaaa') == 1"
   ]
  },
  {
   "cell_type": "markdown",
   "metadata": {},
   "source": [
    "#### Convert a roman numeral to an integer"
   ]
  },
  {
   "cell_type": "markdown",
   "metadata": {},
   "source": [
    "Given a roman numeral, convert it to an integer. Input is guranteed to be within the range from 1 to 3999."
   ]
  },
  {
   "cell_type": "code",
   "execution_count": null,
   "metadata": {},
   "outputs": [],
   "source": [
    "def convert_roman_to_num(s):\n",
    "    roman_to_num = {\"I\": 1, \"V\": 5, \"X\": 10, \"L\": 50, \n",
    "                     \"C\": 100, \"D\": 500, \"M\": 1000}\n",
    "    num = 0\n",
    "    for i in range(1, len(s)):\n",
    "        prev = roman_to_num[s[i-1]]\n",
    "        cur = roman_to_num[s[i]]\n",
    "        if prev < cur:\n",
    "            num -= prev\n",
    "        else:\n",
    "            num += prev\n",
    "    return num + roman_to_num[s[-1:]]"
   ]
  },
  {
   "cell_type": "code",
   "execution_count": null,
   "metadata": {},
   "outputs": [],
   "source": [
    "assert convert_roman_to_num(\"MCMXCIV\") == 1994\n",
    "assert convert_roman_to_num(\"LVIII\") == 58\n",
    "assert convert_roman_to_num(\"IV\") == 4\n",
    "assert convert_roman_to_num(\"I\") == 1\n",
    "assert convert_roman_to_num(\"MMMCMXCIX\") == 3999"
   ]
  },
  {
   "cell_type": "markdown",
   "metadata": {},
   "source": [
    "#### Calculate maximum sum of a contiguous subarray"
   ]
  },
  {
   "cell_type": "markdown",
   "metadata": {},
   "source": [
    "Given an integer array nums, find the contiguous subarray (containing at least one number)\n",
    "which has the largest sum and return its sum."
   ]
  },
  {
   "cell_type": "code",
   "execution_count": null,
   "metadata": {},
   "outputs": [],
   "source": [
    "def calculate_max_sum_subarry(nums):\n",
    "    max_sum = nums[0]\n",
    "    cur_sum = nums[0]\n",
    "    for i in range(1,len(nums)):\n",
    "        cur_sum += nums[i]\n",
    "        if max_sum < cur_sum:\n",
    "            max_sum = cur_sum\n",
    "        if cur_sum < 0:\n",
    "            cur_sum = 0\n",
    "    return max_sum\n",
    "            \n",
    "assert calculate_max_sum_subarry([1, -5, -10, -2, 2]) == 2\n",
    "assert calculate_max_sum_subarry([1, 3, -1, 5, 2]) == 10\n",
    "assert calculate_max_sum_subarry([1, -1, 5, 2]) == 7\n",
    "assert calculate_max_sum_subarry([1, -10, -5, -2]) == 1\n",
    "assert calculate_max_sum_subarry([-10, -5, -2]) == -2\n",
    "assert calculate_max_sum_subarry([-2, -5]) == -2\n",
    "assert calculate_max_sum_subarry([-5]) == -5"
   ]
  },
  {
   "cell_type": "markdown",
   "metadata": {},
   "source": [
    "#### Random uniform sampling from triangle"
   ]
  },
  {
   "cell_type": "markdown",
   "metadata": {},
   "source": [
    "Write a Python function sampleFromTriangle(n) that return a list of n points (x,y) uniformly sampled from within the triangle bounded by (0,0),(0,1),(1,0). Use random.uniform(a, b)  from the random package."
   ]
  },
  {
   "cell_type": "code",
   "execution_count": null,
   "metadata": {},
   "outputs": [],
   "source": [
    "def turn_off_top_right_axis_ticks(ax):\n",
    "    ax.spines['right'].set_visible(False)\n",
    "    ax.spines['top'].set_visible(False)\n",
    "    ax.yaxis.set_ticks_position('left')\n",
    "    ax.xaxis.set_ticks_position('bottom')\n"
   ]
  },
  {
   "cell_type": "code",
   "execution_count": null,
   "metadata": {},
   "outputs": [],
   "source": [
    "import random\n",
    "import matplotlib.pyplot as plt\n",
    "\n",
    "def sample_from_triangle(n, method='throwaway'):\n",
    "    points = []\n",
    "    while len(points) < n:\n",
    "        a = random.uniform(0,1)\n",
    "        b = random.uniform(0,1)\n",
    "        if a + b < 1:\n",
    "            points.append((a,b))\n",
    "        elif method == 'remap':\n",
    "            # remap the points into the triangle\n",
    "            a = 1 - a\n",
    "            b = 1 - b\n",
    "            points.append((a,b))\n",
    "\n",
    "    return points\n",
    "\n",
    "# Both triangles seeded the same (would get the same points \n",
    "# if the points outside the triangle not thrown away)\n",
    "rand_seed = random.randint(1,100000)\n",
    "random.seed(rand_seed)\n",
    "points = sample_from_triangle(200)\n",
    "random.seed(rand_seed)\n",
    "points_re = sample_from_triangle(200, 'remap')\n",
    "# unzip points into x, y for plotting\n",
    "x, y = zip(*points)\n",
    "x_re, y_re = zip(*points_re)\n",
    "\n",
    "# Setup and plot both triangles\n",
    "fig = plt.figure(figsize=(9,4))\n",
    "\n",
    "ax = fig.add_subplot(1, 2, 1, xlim=(0,1), ylim=(0,1))\n",
    "ax.scatter(x, y)\n",
    "ax.plot((0,1), (1,0), 'r--')\n",
    "turn_off_top_right_axis_ticks(ax)\n",
    "\n",
    "ax1 = fig.add_subplot(1, 2, 2, xlim=(0,1), ylim=(0,1))\n",
    "ax1.scatter(x_re, y_re)\n",
    "ax1.plot((0,1), (1,0), 'r--')\n",
    "turn_off_top_right_axis_ticks(ax1)"
   ]
  },
  {
   "cell_type": "markdown",
   "metadata": {},
   "source": [
    "#### Transpose a Matrix"
   ]
  },
  {
   "cell_type": "markdown",
   "metadata": {},
   "source": [
    "##### Standard"
   ]
  },
  {
   "cell_type": "code",
   "execution_count": null,
   "metadata": {},
   "outputs": [],
   "source": [
    "def transpose(A, B, M=3, N=4): \n",
    "    for i in range(N): \n",
    "        for j in range(M): \n",
    "            B[i][j] = A[j][i]"
   ]
  },
  {
   "cell_type": "markdown",
   "metadata": {},
   "source": [
    "##### One Line (using Pythons fancy list indexing)"
   ]
  },
  {
   "cell_type": "code",
   "execution_count": null,
   "metadata": {},
   "outputs": [],
   "source": [
    "def transpose_fancy_index(A):\n",
    "    n = len(A[0])\n",
    "    B = sum(A, [])\n",
    "    return [B[i::n] for i in range(n)]"
   ]
  },
  {
   "cell_type": "code",
   "execution_count": null,
   "metadata": {},
   "outputs": [],
   "source": [
    "def transpose_fancy_index_one_line(A):\n",
    "    return [sum(A, [])[i::n] for i in range(len(A[0]))]"
   ]
  },
  {
   "cell_type": "markdown",
   "metadata": {},
   "source": [
    "##### One Line (using list comprehension)"
   ]
  },
  {
   "cell_type": "code",
   "execution_count": null,
   "metadata": {},
   "outputs": [],
   "source": [
    "# mat = [[1,2],[3,4],[5,6]] \n",
    "mat = [[1,2,3],[4,5,6],[7,8,9]] \n",
    "new_mat = [[row[i] for row in mat] for i in range(len(mat[0]))]\n",
    "print(\"Transpose is:\")\n",
    "for row in new_mat: \n",
    "    print(row) "
   ]
  },
  {
   "cell_type": "markdown",
   "metadata": {},
   "source": [
    "##### One Line (using zip)"
   ]
  },
  {
   "cell_type": "code",
   "execution_count": null,
   "metadata": {},
   "outputs": [],
   "source": [
    "# mat = [[1,2],[3,4],[5,6]] \n",
    "mat = [[1,2,3],[4,5,6],[7,8,9]] \n",
    "result_zip = zip(*mat) \n",
    "print(\"Transpose using zip is:\")\n",
    "for row in result_zip:\n",
    "    print(row) "
   ]
  },
  {
   "cell_type": "markdown",
   "metadata": {},
   "source": [
    "## CS: Sorting and Searching"
   ]
  },
  {
   "cell_type": "markdown",
   "metadata": {},
   "source": [
    "### Binary Search"
   ]
  },
  {
   "cell_type": "code",
   "execution_count": null,
   "metadata": {},
   "outputs": [],
   "source": [
    "def binary_search(alist, start, end, key):\n",
    "    \"\"\"Search key in sorted alist[start... end - 1] and return the \n",
    "    index of the key if found or -1 otherwise.\n",
    "    \"\"\"\n",
    "    if not start < end:\n",
    "        return -1\n",
    " \n",
    "    mid = (start + end)//2\n",
    "    if alist[mid] < key:\n",
    "        return binary_search(alist, mid + 1, end, key)\n",
    "    elif alist[mid] > key:\n",
    "        return binary_search(alist, start, mid, key)\n",
    "    else:\n",
    "        return mid"
   ]
  },
  {
   "cell_type": "code",
   "execution_count": null,
   "metadata": {},
   "outputs": [],
   "source": [
    "arr = sorted([8, 9, 3, 2, 6, 7, 4])\n",
    "print(arr)\n",
    "key = 8\n",
    "start = 0\n",
    "end = len(arr)\n",
    "print(\"Index is:\", binary_search(arr, start, end, key))"
   ]
  },
  {
   "cell_type": "markdown",
   "metadata": {},
   "source": [
    "### Bubble Sort"
   ]
  },
  {
   "cell_type": "markdown",
   "metadata": {},
   "source": [
    "Write a Python function that implements bubble sort on a non-empty array. What is the algorithm’s time complexity? How many times is the ‘if’ statement tested as a function of the length n of the array to sort? If your answer is $n^{2}$, propose a small modification of the algorithm that reduces it to $\\frac{n(n+1)}{2}$. Following this modification, has the algorithm’s time complexity changed?"
   ]
  },
  {
   "cell_type": "code",
   "execution_count": null,
   "metadata": {},
   "outputs": [],
   "source": [
    "def swap_nums(arr, i, j):\n",
    "    temp = arr[i]\n",
    "    arr[i] = arr[j]\n",
    "    arr[j] = temp\n",
    "\n",
    "def bubble_sort(nums):\n",
    "    # Time complexity is O(n) if it's already sorted\n",
    "    for i in range(len(nums)-1,-1,-1):\n",
    "        j = 0\n",
    "        sorted = True\n",
    "        # This solves not having n^2 if comparisons because stops \n",
    "        # on the part of the array that is already sorted\n",
    "        while j < i:\n",
    "            if nums[j] > nums[j+1]:\n",
    "                swap_nums(nums, j, j+1)\n",
    "                sorted = False\n",
    "            j+=1\n",
    "        # break out of the loop when run pass is done without a swap (means sorted)\n",
    "        if sorted == True:\n",
    "            break\n",
    "    return nums\n",
    "assert bubble_sort([1, 2, 3]) == [1,2,3]\n",
    "assert bubble_sort([3, 2, 1]) == [1,2,3]\n",
    "assert bubble_sort([10, 8, -10, 20, 5]) == [-10, 5, 8, 10, 20]\n",
    "assert bubble_sort([64, 34, 25, 12, 22, 11, 90]) == [11, 12, 22, 25, 34, 64, 90]"
   ]
  },
  {
   "cell_type": "markdown",
   "metadata": {},
   "source": [
    "## Stats"
   ]
  },
  {
   "cell_type": "markdown",
   "metadata": {},
   "source": [
    "### Cross-Validation (SKLearn)"
   ]
  },
  {
   "cell_type": "markdown",
   "metadata": {},
   "source": [
    "What are different cross validation strategies implemented in SKLearn?"
   ]
  },
  {
   "cell_type": "code",
   "execution_count": null,
   "metadata": {},
   "outputs": [],
   "source": [
    "from sklearn import datasets\n",
    "from sklearn.model_selection import ShuffleSplit, cross_val_score\n",
    "from sklearn import svm\n",
    "from sklearn import metrics\n",
    "\n",
    "iris = datasets.load_iris()\n",
    "clf = svm.SVC(kernel='linear', C=1)\n",
    "\n",
    "# Cross validate with f1-score (leave scoring blank to get accuracy)\n",
    "# No overlap in testing values for each fold\n",
    "cvs = cross_val_score(clf, iris.data, \n",
    "                      iris.target, cv=5, scoring='f1_macro')\n",
    "print(\"Scores:\", cvs)\n",
    "print(\"Avg Score:\", sum(cvs)/len(cvs))\n",
    "\n",
    "# Can use ShuffleSplit to specify the size of the train/test sets for each split\n",
    "# Therefore, there can be overlap in testing values across folds\n",
    "cv = ShuffleSplit(n_splits=5, test_size=0.3, random_state=0)\n",
    "print(\"\\nPrint out all the splits (shows test repeats values):\")\n",
    "for tr, te in cv.split(iris):\n",
    "    print(\"tr:\", tr, \"test:\", te)\n",
    "cvs1 = cross_val_score(clf, iris.data, iris.target, cv=cv)  \n",
    "print(\"\\nScores:\", cvs1)\n",
    "print(\"Avg Score:\", sum(cvs1)/len(cvs1))"
   ]
  },
  {
   "cell_type": "markdown",
   "metadata": {},
   "source": [
    "## Machine Learning"
   ]
  },
  {
   "cell_type": "markdown",
   "metadata": {},
   "source": [
    "### Iris SKLearn Modeling"
   ]
  },
  {
   "cell_type": "markdown",
   "metadata": {},
   "source": [
    "Run the Iris dataset through basic models in SKLearn and compare scores for different classes using the whole training set and with a train/test split."
   ]
  },
  {
   "cell_type": "markdown",
   "metadata": {},
   "source": [
    "#### No Train/Test Split"
   ]
  },
  {
   "cell_type": "code",
   "execution_count": null,
   "metadata": {},
   "outputs": [],
   "source": [
    "from sklearn.datasets import load_iris\n",
    "from sklearn.linear_model import LogisticRegression\n",
    "from sklearn.model_selection import train_test_split\n",
    "from sklearn.ensemble import RandomForestClassifier\n",
    "from sklearn.naive_bayes import GaussianNB"
   ]
  },
  {
   "cell_type": "code",
   "execution_count": null,
   "metadata": {},
   "outputs": [],
   "source": [
    "iris = load_iris()"
   ]
  },
  {
   "cell_type": "code",
   "execution_count": null,
   "metadata": {},
   "outputs": [],
   "source": [
    "print(iris.data.shape, iris.target_names)"
   ]
  },
  {
   "cell_type": "code",
   "execution_count": null,
   "metadata": {},
   "outputs": [],
   "source": [
    "reg = LogisticRegression(solver='lbfgs', \n",
    "                         multi_class='auto', \n",
    "                         max_iter=500).fit(iris.data, iris.target)"
   ]
  },
  {
   "cell_type": "code",
   "execution_count": null,
   "metadata": {},
   "outputs": [],
   "source": [
    "print(\"Accuracy is:\", reg.score(iris.data, iris.target))"
   ]
  },
  {
   "cell_type": "code",
   "execution_count": null,
   "metadata": {},
   "outputs": [],
   "source": [
    "targets = (iris.target == 0, iris.target == 1, iris.target == 2)\n",
    "print(\"Per class accuracy is:\")\n",
    "for i, targ in enumerate(targets):\n",
    "    print(iris.target_names[i], reg.score(iris.data[targ], iris.target[targ]))"
   ]
  },
  {
   "cell_type": "code",
   "execution_count": null,
   "metadata": {},
   "outputs": [],
   "source": [
    "naive = GaussianNB().fit(iris.data, iris.target)"
   ]
  },
  {
   "cell_type": "code",
   "execution_count": null,
   "metadata": {},
   "outputs": [],
   "source": [
    "print(\"Accuracy is:\", naive.score(iris.data, iris.target))"
   ]
  },
  {
   "cell_type": "code",
   "execution_count": null,
   "metadata": {},
   "outputs": [],
   "source": [
    "print(\"Per class accuracy is:\")\n",
    "for i, targ in enumerate(targets):\n",
    "    print(iris.target_names[i], naive.score(iris.data[targ], iris.target[targ]))"
   ]
  },
  {
   "cell_type": "code",
   "execution_count": null,
   "metadata": {},
   "outputs": [],
   "source": [
    "rf = RandomForestClassifier(n_estimators=100).fit(iris.data, iris.target)"
   ]
  },
  {
   "cell_type": "code",
   "execution_count": null,
   "metadata": {},
   "outputs": [],
   "source": [
    "print(\"Accuracy is:\", rf.score(iris.data, iris.target))"
   ]
  },
  {
   "cell_type": "code",
   "execution_count": null,
   "metadata": {},
   "outputs": [],
   "source": [
    "print(\"Per class accuracy is:\")\n",
    "for i, targ in enumerate(targets):\n",
    "    print(iris.target_names[i], rf.score(iris.data[targ], iris.target[targ]))"
   ]
  },
  {
   "cell_type": "markdown",
   "metadata": {},
   "source": [
    "#### Train and Test Split"
   ]
  },
  {
   "cell_type": "code",
   "execution_count": null,
   "metadata": {},
   "outputs": [],
   "source": [
    "X_train, X_test, y_train, y_test = train_test_split(iris.data, iris.target)"
   ]
  },
  {
   "cell_type": "code",
   "execution_count": null,
   "metadata": {},
   "outputs": [],
   "source": [
    "reg = LogisticRegression(solver='lbfgs', max_iter=500, multi_class='auto').fit(X_train, y_train)\n",
    "reg.score(X_test, y_test)"
   ]
  },
  {
   "cell_type": "code",
   "execution_count": null,
   "metadata": {},
   "outputs": [],
   "source": [
    "targets = (y_test == 0, y_test == 1, y_test == 2)\n",
    "print(\"Per class accuracy is:\")\n",
    "for i, targ in enumerate(targets):\n",
    "    print(iris.target_names[i], reg.score(X_test[targ], y_test[targ]))"
   ]
  },
  {
   "cell_type": "code",
   "execution_count": null,
   "metadata": {},
   "outputs": [],
   "source": [
    "gauss = GaussianNB().fit(X_train, y_train)\n",
    "gauss.score(X_test, y_test)"
   ]
  },
  {
   "cell_type": "code",
   "execution_count": null,
   "metadata": {},
   "outputs": [],
   "source": [
    "print(\"Per class accuracy is:\")\n",
    "for i, targ in enumerate(targets):\n",
    "    print(iris.target_names[i], gauss.score(X_test[targ], y_test[targ]))"
   ]
  },
  {
   "cell_type": "code",
   "execution_count": null,
   "metadata": {},
   "outputs": [],
   "source": [
    "rf = RandomForestClassifier(n_estimators=100).fit(X_train, y_train)\n",
    "rf.score(X_test, y_test)"
   ]
  },
  {
   "cell_type": "code",
   "execution_count": null,
   "metadata": {},
   "outputs": [],
   "source": [
    "print(\"Per class accuracy is:\")\n",
    "for i, targ in enumerate(targets):\n",
    "    print(iris.target_names[i], gauss.score(X_test[targ], y_test[targ]))"
   ]
  },
  {
   "cell_type": "markdown",
   "metadata": {},
   "source": [
    "## End"
   ]
  }
 ],
 "metadata": {
  "language_info": {
   "name": "python",
   "pygments_lexer": "ipython3"
  }
 },
 "nbformat": 4,
 "nbformat_minor": 2
}
