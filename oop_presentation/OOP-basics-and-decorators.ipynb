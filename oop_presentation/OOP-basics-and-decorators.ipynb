{
 "cells": [
  {
   "cell_type": "markdown",
   "metadata": {
    "slideshow": {
     "slide_type": "slide"
    }
   },
   "source": [
    "# Object oriented design\n",
    "\n",
    "Your typical example \n",
    "\n",
    "![Photo: https://commons.wikimedia.org/wiki/Category:Aircraft_in_flight#/media/File:Aerial_Bliss_(31291883).jpeg](http://literatejava.com/wp/wp-content/uploads/2015/10/OO-Design_-Doing-vs-Being-Being-1.png)"
   ]
  },
  {
   "cell_type": "markdown",
   "metadata": {
    "slideshow": {
     "slide_type": "slide"
    }
   },
   "source": [
    "# Four Principles of Object-Oriented Programming\n",
    "\n",
    "##### Encapsulation  \n",
    "1. Objects keep its state private  \n",
    "2. State accessable by public functions called methods.  \n",
    "3. **Ex. set_ and get_ methods**\n",
    "\n",
    "##### Abstraction  \n",
    "1. Implementation details are hidden (only need to know relevant actions)\n",
    "\n",
    "##### Inheritance  \n",
    "1. Objects share common logic (reuse the common logic and extract the unique logic into seperate classes)  \n",
    "2. **Ex. BaseEstimator -> BaseEnsemble -> BaseForest -> ForestClassifier -> RandomForestClassifier**\n",
    "\n",
    "##### Polymorphism  \n",
    "1. Method overriding meaning a derived class is implementing a method of its super class.\n",
    "2. Method overloading is another form of polymorphism, where one method with the same method name behaves differently based on the arguments passed in while calling the method.\n",
    "3. **Set BaseEnsemble fit() and predict() methods.**  \n",
    "4. **Requires the methods below to have fit() and predict() but each model can implement that like they please and override the superclass definitions.**"
   ]
  },
  {
   "cell_type": "markdown",
   "metadata": {
    "heading_collapsed": true,
    "slideshow": {
     "slide_type": "slide"
    }
   },
   "source": [
    "##### Polymorphism  \n",
    "1. Method overriding meaning a derived class is implementing a method of its super class.\n",
    "2. Method overloading is another form of polymorphism, where one method with the same method name behaves differently based on the arguments passed in while calling the method.\n",
    "3. **Set BaseEnsemble fit() and predict() methods.**  \n",
    "4. **Requires the methods below to have fit() and predict() but each model can implement that like they please and override the superclass definitions.**"
   ]
  },
  {
   "cell_type": "markdown",
   "metadata": {
    "slideshow": {
     "slide_type": "slide"
    }
   },
   "source": [
    "## Python's `list` class"
   ]
  },
  {
   "cell_type": "code",
   "execution_count": 1,
   "metadata": {
    "slideshow": {
     "slide_type": "fragment"
    }
   },
   "outputs": [
    {
     "name": "stdout",
     "output_type": "stream",
     "text": [
      "<class 'list'>\n"
     ]
    }
   ],
   "source": [
    "x = ['a', 'list']\n",
    "\n",
    "print(type(x))"
   ]
  },
  {
   "cell_type": "markdown",
   "metadata": {
    "slideshow": {
     "slide_type": "fragment"
    }
   },
   "source": [
    "- `x` is an object \n",
    "- `x` is an instance of a list\n",
    "- the class of `x` is 'list'"
   ]
  },
  {
   "cell_type": "markdown",
   "metadata": {
    "slideshow": {
     "slide_type": "fragment"
    }
   },
   "source": [
    "**YOU ALL ARE USING CLASSES AND OOP EVERYDAY**"
   ]
  },
  {
   "cell_type": "markdown",
   "metadata": {
    "slideshow": {
     "slide_type": "slide"
    }
   },
   "source": [
    "# Attributes vs. methods\n",
    "\n",
    "**Attributes**: Data, traits, qualities\n",
    "\n",
    "**Methods**: Behaviors, functions, actions"
   ]
  },
  {
   "cell_type": "code",
   "execution_count": 2,
   "metadata": {
    "slideshow": {
     "slide_type": "fragment"
    }
   },
   "outputs": [
    {
     "name": "stdout",
     "output_type": "stream",
     "text": [
      "[[1 0]\n",
      " [0 1]]\n"
     ]
    }
   ],
   "source": [
    "import numpy as np\n",
    "\n",
    "arr = np.array([[1, 0], [0, 1]])\n",
    "print(arr)"
   ]
  },
  {
   "cell_type": "code",
   "execution_count": 3,
   "metadata": {
    "slideshow": {
     "slide_type": "fragment"
    }
   },
   "outputs": [
    {
     "data": {
      "text/plain": [
       "(2, 2)"
      ]
     },
     "execution_count": 3,
     "metadata": {},
     "output_type": "execute_result"
    }
   ],
   "source": [
    "# access an attribute\n",
    "arr.shape"
   ]
  },
  {
   "cell_type": "code",
   "execution_count": 4,
   "metadata": {
    "slideshow": {
     "slide_type": "fragment"
    }
   },
   "outputs": [
    {
     "data": {
      "text/plain": [
       "array([1, 0, 0, 1])"
      ]
     },
     "execution_count": 4,
     "metadata": {},
     "output_type": "execute_result"
    }
   ],
   "source": [
    "# use a method\n",
    "arr.flatten()"
   ]
  },
  {
   "cell_type": "markdown",
   "metadata": {
    "slideshow": {
     "slide_type": "slide"
    }
   },
   "source": [
    "## Methods and attributes of numpy array"
   ]
  },
  {
   "cell_type": "code",
   "execution_count": 5,
   "metadata": {
    "slideshow": {
     "slide_type": "fragment"
    }
   },
   "outputs": [
    {
     "data": {
      "text/plain": [
       "[('__truediv__', 'func'),\n",
       " ('__xor__', 'func'),\n",
       " ('all', 'func'),\n",
       " ('any', 'func'),\n",
       " ('argmax', 'func'),\n",
       " ('argmin', 'func'),\n",
       " ('argpartition', 'func'),\n",
       " ('argsort', 'func'),\n",
       " ('astype', 'func'),\n",
       " ('base', 'attr'),\n",
       " ('byteswap', 'func'),\n",
       " ('choose', 'func'),\n",
       " ('clip', 'func'),\n",
       " ('compress', 'func'),\n",
       " ('conj', 'func'),\n",
       " ('conjugate', 'func'),\n",
       " ('copy', 'func'),\n",
       " ('ctypes', 'attr'),\n",
       " ('cumprod', 'func'),\n",
       " ('cumsum', 'func'),\n",
       " ('data', 'attr'),\n",
       " ('diagonal', 'func'),\n",
       " ('dot', 'func'),\n",
       " ('dtype', 'attr'),\n",
       " ('dump', 'func'),\n",
       " ('dumps', 'func'),\n",
       " ('fill', 'func'),\n",
       " ('flags', 'attr'),\n",
       " ('flat', 'attr'),\n",
       " ('flatten', 'func'),\n",
       " ('getfield', 'func'),\n",
       " ('imag', 'attr'),\n",
       " ('item', 'func'),\n",
       " ('itemset', 'func'),\n",
       " ('itemsize', 'attr'),\n",
       " ('max', 'func'),\n",
       " ('mean', 'func'),\n",
       " ('min', 'func'),\n",
       " ('nbytes', 'attr'),\n",
       " ('ndim', 'attr'),\n",
       " ('newbyteorder', 'func'),\n",
       " ('nonzero', 'func'),\n",
       " ('partition', 'func'),\n",
       " ('prod', 'func'),\n",
       " ('ptp', 'func'),\n",
       " ('put', 'func'),\n",
       " ('ravel', 'func'),\n",
       " ('real', 'attr'),\n",
       " ('repeat', 'func'),\n",
       " ('reshape', 'func'),\n",
       " ('resize', 'func'),\n",
       " ('round', 'func'),\n",
       " ('searchsorted', 'func'),\n",
       " ('setfield', 'func'),\n",
       " ('setflags', 'func'),\n",
       " ('shape', 'attr'),\n",
       " ('size', 'attr'),\n",
       " ('sort', 'func'),\n",
       " ('squeeze', 'func'),\n",
       " ('std', 'func'),\n",
       " ('strides', 'attr'),\n",
       " ('sum', 'func'),\n",
       " ('swapaxes', 'func'),\n",
       " ('take', 'func'),\n",
       " ('tobytes', 'func'),\n",
       " ('tofile', 'func'),\n",
       " ('tolist', 'func'),\n",
       " ('tostring', 'func'),\n",
       " ('trace', 'func'),\n",
       " ('transpose', 'func'),\n",
       " ('var', 'func'),\n",
       " ('view', 'func')]"
      ]
     },
     "execution_count": 5,
     "metadata": {},
     "output_type": "execute_result"
    }
   ],
   "source": [
    "[(a, 'func' if callable(getattr(arr, a)) else 'attr') for a in dir(arr)][90:]"
   ]
  },
  {
   "cell_type": "markdown",
   "metadata": {
    "slideshow": {
     "slide_type": "slide"
    }
   },
   "source": [
    "# Abstraction\n",
    "\n",
    "##### Impelmentation details of `flatten()` method are nasty so ABSTRACTION hides them\n",
    "\n",
    "```c\n",
    "/*NUMPY_API\n",
    " * Flatten\n",
    " */\n",
    "NPY_NO_EXPORT PyObject *\n",
    "PyArray_Flatten(PyArrayObject *a, NPY_ORDER order)\n",
    "{\n",
    "    PyArrayObject *ret;\n",
    "    npy_intp size;\n",
    "\n",
    "\n",
    "    if (order == NPY_ANYORDER) {\n",
    "        order = PyArray_ISFORTRAN(a) ? NPY_FORTRANORDER : NPY_CORDER;\n",
    "    }\n",
    "\n",
    "\n",
    "    size = PyArray_SIZE(a);\n",
    "    Py_INCREF(PyArray_DESCR(a));\n",
    "    ret = (PyArrayObject *)PyArray_NewFromDescr(Py_TYPE(a),\n",
    "                               PyArray_DESCR(a),\n",
    "                               1, &size,\n",
    "                               NULL,\n",
    "                               NULL,\n",
    "                               0, (PyObject *)a);\n",
    "    if (ret == NULL) {\n",
    "        return NULL;\n",
    "    }\n",
    "\n",
    "\n",
    "    if (PyArray_CopyAsFlat(ret, a, order) < 0) {\n",
    "        Py_DECREF(ret);\n",
    "        return NULL;\n",
    "    }\n",
    "    return (PyObject *)ret;\n",
    "}\n",
    "```"
   ]
  },
  {
   "cell_type": "markdown",
   "metadata": {
    "heading_collapsed": true,
    "slideshow": {
     "slide_type": "slide"
    }
   },
   "source": [
    "## Abstraction & numpy arrays\n",
    "\n",
    "**User**: I define an array to represent a matrix\n",
    "\n",
    "**Dev**: The floats comprising the numpy array are mapped to specific memory locations and..?(other fancy sounding things that I'm glad to not have to know)\n",
    "\n",
    "![](https://i.stack.imgur.com/C0HYH.jpg)\n",
    "\n",
    "https://stackoverflow.com/questions/44865261/what-is-the-difference-between-numpy-shares-memory-and-numpy-may-share-memory"
   ]
  },
  {
   "cell_type": "markdown",
   "metadata": {
    "slideshow": {
     "slide_type": "slide"
    }
   },
   "source": [
    "# Inheritance\n",
    "\n",
    "Class A \"inherits from\" class B\n",
    "\n",
    "OrderedDicts inherit from the dict class\n",
    "\n",
    "https://docs.python.org/3/library/collections.html#collections.OrderedDict"
   ]
  },
  {
   "cell_type": "code",
   "execution_count": 6,
   "metadata": {
    "slideshow": {
     "slide_type": "fragment"
    }
   },
   "outputs": [],
   "source": [
    "from collections import OrderedDict\n",
    "\n",
    "a_dictionary = {\"key\": \"value\"}\n",
    "an_ordered_dict = OrderedDict({\"key\": \"value\"})"
   ]
  },
  {
   "cell_type": "code",
   "execution_count": 7,
   "metadata": {
    "slideshow": {
     "slide_type": "fragment"
    }
   },
   "outputs": [
    {
     "data": {
      "text/plain": [
       "True"
      ]
     },
     "execution_count": 7,
     "metadata": {},
     "output_type": "execute_result"
    }
   ],
   "source": [
    "# the ordered dictionary has all attributes and methods of a dictionary\n",
    "all([attr in dir(an_ordered_dict) for attr in dir(a_dictionary)])"
   ]
  },
  {
   "cell_type": "code",
   "execution_count": 8,
   "metadata": {
    "slideshow": {
     "slide_type": "fragment"
    }
   },
   "outputs": [
    {
     "name": "stdout",
     "output_type": "stream",
     "text": [
      "['__dict__', '__reversed__', 'move_to_end']\n"
     ]
    }
   ],
   "source": [
    "# the ordered dictionary also has some unique stuff\n",
    "print([attr for attr in dir(an_ordered_dict) if attr not in dir(a_dictionary)])"
   ]
  },
  {
   "cell_type": "markdown",
   "metadata": {
    "slideshow": {
     "slide_type": "slide"
    }
   },
   "source": [
    "## Ex. Class Hierarchy:: object -> BaseEstimator -> BaseEnsemble -> BaseForest -> ForestClassifier -> RandomForestClassifier**"
   ]
  },
  {
   "cell_type": "code",
   "execution_count": 9,
   "metadata": {
    "slideshow": {
     "slide_type": "skip"
    }
   },
   "outputs": [],
   "source": [
    "from sklearn.base import BaseEstimator\n",
    "from sklearn.ensemble import BaseEnsemble\n",
    "from sklearn.ensemble.forest import BaseForest, ForestClassifier, RandomForestClassifier\n",
    "base = BaseEstimator; baseE = BaseEnsemble; baseF = BaseForest; baseR = ForestClassifier; baseRF = RandomForestClassifier"
   ]
  },
  {
   "cell_type": "code",
   "execution_count": 10,
   "metadata": {
    "scrolled": true,
    "slideshow": {
     "slide_type": "fragment"
    }
   },
   "outputs": [
    {
     "data": {
      "text/plain": [
       "True"
      ]
     },
     "execution_count": 10,
     "metadata": {},
     "output_type": "execute_result"
    }
   ],
   "source": [
    "# the BaseEstimator has all attributes and methods of the object class (base class for all Python objects)\n",
    "all([attr in dir(base) for attr in dir(object())])"
   ]
  },
  {
   "cell_type": "code",
   "execution_count": 11,
   "metadata": {
    "slideshow": {
     "slide_type": "fragment"
    }
   },
   "outputs": [
    {
     "name": "stdout",
     "output_type": "stream",
     "text": [
      "['__dict__', '__getstate__', '__module__', '__setstate__', '__weakref__', '_get_param_names', '_get_tags', 'get_params', 'set_params']\n"
     ]
    }
   ],
   "source": [
    "# the BaseEnsemble also has some unique stuff\n",
    "print([attr for attr in dir(base) if attr not in dir(object())])"
   ]
  },
  {
   "cell_type": "code",
   "execution_count": 12,
   "metadata": {
    "slideshow": {
     "slide_type": "fragment"
    }
   },
   "outputs": [
    {
     "name": "stdout",
     "output_type": "stream",
     "text": [
      "['__abstractmethods__', '__getitem__', '__iter__', '__len__', '_abc_cache', '_abc_negative_cache', '_abc_negative_cache_version', '_abc_registry', '_make_estimator', '_required_parameters', '_validate_estimator']\n"
     ]
    }
   ],
   "source": [
    "# the BaseEnsemble also has some unique stuff\n",
    "print([attr for attr in dir(baseE) if attr not in dir(base)])"
   ]
  },
  {
   "cell_type": "code",
   "execution_count": 13,
   "metadata": {
    "slideshow": {
     "slide_type": "fragment"
    }
   },
   "outputs": [
    {
     "name": "stdout",
     "output_type": "stream",
     "text": [
      "['_more_tags', '_set_oob_score', '_validate_X_predict', '_validate_y_class_weight', 'apply', 'decision_path', 'feature_importances_', 'fit']\n"
     ]
    }
   ],
   "source": [
    "# the BaseForest also has some unique stuff from the BaseEnsemble\n",
    "print([attr for attr in dir(baseF) if attr not in dir(baseE)])"
   ]
  },
  {
   "cell_type": "code",
   "execution_count": 14,
   "metadata": {
    "slideshow": {
     "slide_type": "fragment"
    }
   },
   "outputs": [
    {
     "name": "stdout",
     "output_type": "stream",
     "text": [
      "['_estimator_type', 'predict', 'predict_log_proba', 'predict_proba', 'score']\n"
     ]
    }
   ],
   "source": [
    "# the ForestClassifier also has some unique stuff from the BaseForest\n",
    "print([attr for attr in dir(baseR) if attr not in dir(baseF)])"
   ]
  },
  {
   "cell_type": "code",
   "execution_count": 15,
   "metadata": {
    "slideshow": {
     "slide_type": "fragment"
    }
   },
   "outputs": [
    {
     "name": "stdout",
     "output_type": "stream",
     "text": [
      "[]\n"
     ]
    }
   ],
   "source": [
    "# the RandomForestClassifier also has some unique stuff from the ForestClassifier\n",
    "print([attr for attr in dir(baseRF) if attr not in dir(baseR)])"
   ]
  },
  {
   "cell_type": "markdown",
   "metadata": {
    "slideshow": {
     "slide_type": "slide"
    }
   },
   "source": [
    "## Ex. Class Hierarchy:: object -> BaseEstimator -> BaseEnsemble -> BaseForest -> ForestClassifier -> RandomForestClassifier**"
   ]
  },
  {
   "cell_type": "code",
   "execution_count": 16,
   "metadata": {
    "slideshow": {
     "slide_type": "fragment"
    }
   },
   "outputs": [
    {
     "name": "stdout",
     "output_type": "stream",
     "text": [
      "['_more_tags', '_set_oob_score', '_validate_X_predict', '_validate_y_class_weight', 'apply', 'decision_path', 'feature_importances_', 'fit']\n"
     ]
    }
   ],
   "source": [
    "# the BaseForest also has some unique stuff from the BaseEnsemble\n",
    "print([attr for attr in dir(baseF) if attr not in dir(baseE)])"
   ]
  },
  {
   "cell_type": "code",
   "execution_count": 17,
   "metadata": {
    "slideshow": {
     "slide_type": "fragment"
    }
   },
   "outputs": [
    {
     "name": "stdout",
     "output_type": "stream",
     "text": [
      "['_estimator_type', 'predict', 'predict_log_proba', 'predict_proba', 'score']\n"
     ]
    }
   ],
   "source": [
    "# the ForestClassifier also has some unique stuff from the BaseForest\n",
    "print([attr for attr in dir(baseR) if attr not in dir(baseF)])"
   ]
  },
  {
   "cell_type": "code",
   "execution_count": 18,
   "metadata": {
    "slideshow": {
     "slide_type": "fragment"
    }
   },
   "outputs": [
    {
     "name": "stdout",
     "output_type": "stream",
     "text": [
      "[]\n"
     ]
    }
   ],
   "source": [
    "# the RandomForestClassifier also has some unique stuff from the ForestClassifier\n",
    "print([attr for attr in dir(baseRF) if attr not in dir(baseR)])"
   ]
  },
  {
   "cell_type": "markdown",
   "metadata": {
    "slideshow": {
     "slide_type": "slide"
    }
   },
   "source": [
    "# Zip Example for Reusing-code (Inheritance, Abstraction, and Polymorphism)\n",
    "\n",
    "e.g., we need to \n",
    "\n",
    "1. Unzip a .zip file\n",
    "2. Do some stuff\n",
    "3. Zip the stuff"
   ]
  },
  {
   "cell_type": "code",
   "execution_count": 24,
   "metadata": {
    "slideshow": {
     "slide_type": "slide"
    }
   },
   "outputs": [],
   "source": [
    "import sys\n",
    "import os\n",
    "import shutil\n",
    "import zipfile\n",
    "from pathlib import Path\n",
    "\n",
    "class ZipProcessor:\n",
    "    def __init__(self, zipname):\n",
    "        self.zipname = zipname\n",
    "        self.tmpdir = Path('unzipped-{}'.format(zipname[:-4]))\n",
    "    \n",
    "    def process_zip(self):\n",
    "        self.unzip_files()\n",
    "        self.do_stuff()\n",
    "        self.zip_files()\n",
    "    \n",
    "    # (Abstraction) both the unzip_files and zip_files are abstracted away\n",
    "    def unzip_files(self):\n",
    "        self.tmpdir.mkdir()\n",
    "        with zipfile.ZipFile(self.zipname) as zip:\n",
    "            zip.extractall(str(self.tmpdir))\n",
    "    \n",
    "    def zip_files(self):\n",
    "        with zipfile.ZipFile(self.zipname, 'w') as file:\n",
    "            for filename in self.tmpdir.iterdir():\n",
    "                file.write(str(filename), filename.name)\n",
    "        shutil.rmtree(str(self.tmpdir))\n",
    "        \n",
    "    # (Polymorphism) All subclasses should override this\n",
    "    def do_stuff(self):\n",
    "        print(\"Should just put pass here because will always do nothing.\")"
   ]
  },
  {
   "cell_type": "code",
   "execution_count": 226,
   "metadata": {
    "slideshow": {
     "slide_type": "slide"
    }
   },
   "outputs": [],
   "source": [
    "# (Inheritance) create a subclass that does a find and replace\n",
    "class ZipReplace(ZipProcessor):\n",
    "    def __init__(self, filename, find, replace):\n",
    "        # super calls the superclass __init__() so all attributes are inherited\n",
    "        super().__init__(filename)\n",
    "        self.find = find\n",
    "        self.replace = replace\n",
    "        \n",
    "    def process_zip(self):\n",
    "        # code below is now redundant but could do polymorphism\n",
    "        super().process_zip()\n",
    "        # instead of just replace also save to downloads folder (put that code here)\n",
    "\n",
    "    \n",
    "    def do_stuff(self):\n",
    "        \"\"\"perform a search and replace on all files in the\n",
    "        temporary directory\"\"\"\n",
    "        for filename in self.tmpdir.iterdir():\n",
    "            with filename.open() as file:\n",
    "                contents = file.read()\n",
    "            contents = contents.replace(self.find, self.replace)\n",
    "            with filename.open(\"w\") as file:\n",
    "                file.write(contents)"
   ]
  },
  {
   "cell_type": "code",
   "execution_count": 25,
   "metadata": {
    "slideshow": {
     "slide_type": "fragment"
    }
   },
   "outputs": [],
   "source": [
    "zip_replacer = ZipReplace(filename = 'lyrics.zip', \n",
    "                          find = 'gonna', \n",
    "                          replace = 'replaceit')\n",
    "\n",
    "zip_replacer.process_zip()"
   ]
  },
  {
   "cell_type": "markdown",
   "metadata": {
    "slideshow": {
     "slide_type": "slide"
    }
   },
   "source": [
    "## What if we also want to reverse the string?\n",
    "\n",
    "**Can we reverse the string without copying and pasting the code to loop through each file to perform an action on each file.**\n",
    "\n",
    "Use a decorator aka a function within a function as shown in `manipulate_files` below. For more on decorators, here is a clear resource in how to include variables or return values using decorators.  \n",
    "[More info on decorators](https://www.geeksforgeeks.org/decorators-in-python/)"
   ]
  },
  {
   "cell_type": "code",
   "execution_count": 234,
   "metadata": {
    "slideshow": {
     "slide_type": "subslide"
    }
   },
   "outputs": [],
   "source": [
    "import sys\n",
    "import os\n",
    "import shutil\n",
    "import zipfile\n",
    "from pathlib import Path\n",
    "\n",
    "class ZipProcessor:\n",
    "    def __init__(self, zipname):\n",
    "        self.zipname = zipname\n",
    "        self.tmpdir = Path('unzipped-{}'.format(zipname[:-4]))\n",
    "\n",
    "    def manipulate_files(self, func):\n",
    "        \"\"\"Use this decorator to modify the file contents \n",
    "        in different ways in the inherited classes.\"\"\"\n",
    "        def wrapper():\n",
    "            for filename in self.tmpdir.iterdir():\n",
    "                with filename.open() as file:\n",
    "                    contents = func(file)\n",
    "                with filename.open(\"w\") as file:\n",
    "                    file.write(contents)\n",
    "        return wrapper\n",
    "    \n",
    "    def process_zip(self):\n",
    "        self.unzip_files()\n",
    "        self.do_stuff()\n",
    "        self.zip_files()\n",
    "    \n",
    "    # (Abstraction) both the unzip_files and zip_files are abstracted away\n",
    "    def unzip_files(self):\n",
    "        self.tmpdir.mkdir(exist_ok=True)\n",
    "        with zipfile.ZipFile(self.zipname) as zip:\n",
    "            zip.extractall(str(self.tmpdir))\n",
    "    \n",
    "    def zip_files(self):\n",
    "        with zipfile.ZipFile(self.zipname, 'w') as file:\n",
    "            for filename in self.tmpdir.iterdir():\n",
    "                file.write(str(filename), filename.name)\n",
    "        shutil.rmtree(str(self.tmpdir))"
   ]
  },
  {
   "cell_type": "code",
   "execution_count": 230,
   "metadata": {
    "slideshow": {
     "slide_type": "slide"
    }
   },
   "outputs": [],
   "source": [
    "# (Inheritance) create a subclass that does a find and replace\n",
    "class ZipReplace(ZipProcessor):\n",
    "    def __init__(self, filename, find, replace):\n",
    "        # super calls the superclass __init__() so all attributes are inherited\n",
    "        super().__init__(filename)\n",
    "        self.find = find\n",
    "        self.replace = replace\n",
    "            \n",
    "    def do_stuff(self):\n",
    "        find_and_replace = self.manipulate_files(lambda file: file.read().replace(self.find, self.replace))\n",
    "        find_and_replace()\n",
    "        print(find_and_replace)\n",
    "        \n",
    "# (Inheritance) create a subclass that does a find and replace\n",
    "class ZipReverse(ZipProcessor):\n",
    "    def __init__(self, filename):\n",
    "        # super calls the superclass __init__() so all attributes are inherited\n",
    "        super().__init__(filename)\n",
    "        \n",
    "    def do_stuff(self):\n",
    "        reverse_it = self.manipulate_files(lambda file: file.read()[::-1])\n",
    "        reverse_it()\n",
    "        print(reverse_it)"
   ]
  },
  {
   "cell_type": "code",
   "execution_count": 231,
   "metadata": {
    "slideshow": {
     "slide_type": "fragment"
    }
   },
   "outputs": [
    {
     "name": "stdout",
     "output_type": "stream",
     "text": [
      "<function ZipProcessor.manipulate_files.<locals>.wrapper at 0x113cf4e18>\n",
      "<function ZipProcessor.manipulate_files.<locals>.wrapper at 0x113cf4e18>\n"
     ]
    }
   ],
   "source": [
    "zip_replacer = ZipReplace(filename = 'lyrics.zip', \n",
    "                          find = 'gonna', \n",
    "                          replace = 'replaceit')\n",
    "zip_replacer.process_zip()\n",
    "zip_reverser = ZipReverse(filename = 'lyrics.zip')\n",
    "zip_reverser.process_zip()"
   ]
  },
  {
   "cell_type": "markdown",
   "metadata": {
    "heading_collapsed": true,
    "slideshow": {
     "slide_type": "slide"
    }
   },
   "source": [
    "# Major concepts that were introduced\n",
    "\n",
    "- objects\n",
    "- classes\n",
    "- attributes\n",
    "- methods\n",
    "- hiding details\n",
    "    - abstraction\n",
    "- inheritance\n",
    "- polymorphism"
   ]
  },
  {
   "cell_type": "markdown",
   "metadata": {
    "heading_collapsed": true,
    "slideshow": {
     "slide_type": "slide"
    }
   },
   "source": [
    "# The END"
   ]
  }
 ],
 "metadata": {
  "celltoolbar": "Slideshow",
  "kernelspec": {
   "display_name": "Python 3",
   "language": "python",
   "name": "python3"
  },
  "language_info": {
   "codemirror_mode": {
    "name": "ipython",
    "version": 3
   },
   "file_extension": ".py",
   "mimetype": "text/x-python",
   "name": "python",
   "nbconvert_exporter": "python",
   "pygments_lexer": "ipython3",
   "version": "3.6.8"
  },
  "rise": {
   "autolaunch": true
  },
  "toc": {
   "base_numbering": 1,
   "nav_menu": {},
   "number_sections": true,
   "sideBar": true,
   "skip_h1_title": false,
   "title_cell": "Table of Contents",
   "title_sidebar": "Contents",
   "toc_cell": false,
   "toc_position": {},
   "toc_section_display": true,
   "toc_window_display": false
  },
  "varInspector": {
   "cols": {
    "lenName": 16,
    "lenType": 16,
    "lenVar": 40
   },
   "kernels_config": {
    "python": {
     "delete_cmd_postfix": "",
     "delete_cmd_prefix": "del ",
     "library": "var_list.py",
     "varRefreshCmd": "print(var_dic_list())"
    },
    "r": {
     "delete_cmd_postfix": ") ",
     "delete_cmd_prefix": "rm(",
     "library": "var_list.r",
     "varRefreshCmd": "cat(var_dic_list()) "
    }
   },
   "types_to_exclude": [
    "module",
    "function",
    "builtin_function_or_method",
    "instance",
    "_Feature"
   ],
   "window_display": false
  }
 },
 "nbformat": 4,
 "nbformat_minor": 2
}
